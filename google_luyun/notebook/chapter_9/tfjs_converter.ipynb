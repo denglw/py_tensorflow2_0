{
 "cells": [
  {
   "cell_type": "code",
   "execution_count": null,
   "metadata": {},
   "outputs": [],
   "source": [
    "!tensorflowjs_converter --help"
   ]
  },
  {
   "cell_type": "code",
   "execution_count": null,
   "metadata": {},
   "outputs": [],
   "source": [
    "# keras model --> layers model\n",
    "!tensorflowjs_converter --input_format keras \\\n",
    "    --output_format tfjs_layers_model \\\n",
    "    ./graph_def_and_weights/fashion_mnist_model.h5 \\\n",
    "    ./tfjs_models/keras_to_tfjs_layers"
   ]
  },
  {
   "cell_type": "code",
   "execution_count": null,
   "metadata": {},
   "outputs": [],
   "source": [
    "# keras model --> graph model\n",
    "!tensorflowjs_converter --input_format keras \\\n",
    "    --output_format tfjs_graph_model \\\n",
    "    ./graph_def_and_weights/fashion_mnist_model.h5 \\\n",
    "    ./tfjs_models/keras_to_tfjs_graph"
   ]
  },
  {
   "cell_type": "code",
   "execution_count": null,
   "metadata": {},
   "outputs": [],
   "source": [
    "# saved model --> graph model\n",
    "!tensorflowjs_converter --input_format tf_saved_model \\\n",
    "    --output_format tfjs_graph_model \\\n",
    "    ./keras_saved_graph/ \\\n",
    "    ./tfjs_models/saved_model_to_tfjs_model\n"
   ]
  },
  {
   "cell_type": "code",
   "execution_count": null,
   "metadata": {},
   "outputs": [],
   "source": [
    "# saved model --> layers model\n",
    "!tensorflowjs_converter --input_format tf_saved_model \\\n",
    "    --output_format tfjs_layers_model \\\n",
    "    ./keras_saved_graph/ \\\n",
    "    ./tfjs_models/saved_model_to_tfjs_layers"
   ]
  }
 ],
 "metadata": {
  "kernelspec": {
   "display_name": "tensorflow2.0",
   "language": "python",
   "name": "tensorflow2.0"
  },
  "language_info": {
   "codemirror_mode": {
    "name": "ipython",
    "version": 3
   },
   "file_extension": ".py",
   "mimetype": "text/x-python",
   "name": "python",
   "nbconvert_exporter": "python",
   "pygments_lexer": "ipython3",
   "version": "3.7.7"
  }
 },
 "nbformat": 4,
 "nbformat_minor": 4
}
