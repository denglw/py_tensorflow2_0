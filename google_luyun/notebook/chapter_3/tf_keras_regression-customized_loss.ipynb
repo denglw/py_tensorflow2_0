{
 "cells": [
  {
   "cell_type": "code",
   "execution_count": 1,
   "metadata": {},
   "outputs": [
    {
     "name": "stdout",
     "output_type": "stream",
     "text": [
      "2.0.0\n",
      "sys.version_info(major=3, minor=7, micro=7, releaselevel='final', serial=0)\n",
      "matplotlib 3.2.2\n",
      "numpy 1.19.0\n",
      "pandas 1.0.5\n",
      "sklearn 0.23.1\n",
      "tensorflow_core.keras 2.2.4-tf\n"
     ]
    }
   ],
   "source": [
    "import matplotlib as mpl\n",
    "import matplotlib.pyplot as plt\n",
    "%matplotlib inline\n",
    "import numpy as np\n",
    "import pandas as pd\n",
    "import os\n",
    "import sys\n",
    "import time\n",
    "import sklearn\n",
    "import tensorflow as tf\n",
    "\n",
    "from tensorflow import keras\n",
    "\n",
    "print(tf.__version__)\n",
    "print(sys.version_info)\n",
    "for model in mpl, np, pd, sklearn, keras:\n",
    "    print(model.__name__, model.__version__)"
   ]
  },
  {
   "cell_type": "code",
   "execution_count": 2,
   "metadata": {},
   "outputs": [
    {
     "name": "stdout",
     "output_type": "stream",
     "text": [
      ".. _california_housing_dataset:\n",
      "\n",
      "California Housing dataset\n",
      "--------------------------\n",
      "\n",
      "**Data Set Characteristics:**\n",
      "\n",
      "    :Number of Instances: 20640\n",
      "\n",
      "    :Number of Attributes: 8 numeric, predictive attributes and the target\n",
      "\n",
      "    :Attribute Information:\n",
      "        - MedInc        median income in block\n",
      "        - HouseAge      median house age in block\n",
      "        - AveRooms      average number of rooms\n",
      "        - AveBedrms     average number of bedrooms\n",
      "        - Population    block population\n",
      "        - AveOccup      average house occupancy\n",
      "        - Latitude      house block latitude\n",
      "        - Longitude     house block longitude\n",
      "\n",
      "    :Missing Attribute Values: None\n",
      "\n",
      "This dataset was obtained from the StatLib repository.\n",
      "http://lib.stat.cmu.edu/datasets/\n",
      "\n",
      "The target variable is the median house value for California districts.\n",
      "\n",
      "This dataset was derived from the 1990 U.S. census, using one row per census\n",
      "block group. A block group is the smallest geographical unit for which the U.S.\n",
      "Census Bureau publishes sample data (a block group typically has a population\n",
      "of 600 to 3,000 people).\n",
      "\n",
      "It can be downloaded/loaded using the\n",
      ":func:`sklearn.datasets.fetch_california_housing` function.\n",
      "\n",
      ".. topic:: References\n",
      "\n",
      "    - Pace, R. Kelley and Ronald Barry, Sparse Spatial Autoregressions,\n",
      "      Statistics and Probability Letters, 33 (1997) 291-297\n",
      "\n",
      "(20640, 8)\n",
      "(20640,)\n"
     ]
    }
   ],
   "source": [
    "# 回归问题\n",
    "# 加利福利亚\n",
    "from sklearn.datasets import fetch_california_housing\n",
    "#加载数据\n",
    "housing = fetch_california_housing()\n",
    "print(housing.DESCR)\n",
    "print(housing.data.shape)\n",
    "print(housing.target.shape)\n"
   ]
  },
  {
   "cell_type": "code",
   "execution_count": 3,
   "metadata": {},
   "outputs": [
    {
     "name": "stdout",
     "output_type": "stream",
     "text": [
      "array([[ 8.32520000e+00,  4.10000000e+01,  6.98412698e+00,\n",
      "         1.02380952e+00,  3.22000000e+02,  2.55555556e+00,\n",
      "         3.78800000e+01, -1.22230000e+02],\n",
      "       [ 8.30140000e+00,  2.10000000e+01,  6.23813708e+00,\n",
      "         9.71880492e-01,  2.40100000e+03,  2.10984183e+00,\n",
      "         3.78600000e+01, -1.22220000e+02],\n",
      "       [ 7.25740000e+00,  5.20000000e+01,  8.28813559e+00,\n",
      "         1.07344633e+00,  4.96000000e+02,  2.80225989e+00,\n",
      "         3.78500000e+01, -1.22240000e+02],\n",
      "       [ 5.64310000e+00,  5.20000000e+01,  5.81735160e+00,\n",
      "         1.07305936e+00,  5.58000000e+02,  2.54794521e+00,\n",
      "         3.78500000e+01, -1.22250000e+02],\n",
      "       [ 3.84620000e+00,  5.20000000e+01,  6.28185328e+00,\n",
      "         1.08108108e+00,  5.65000000e+02,  2.18146718e+00,\n",
      "         3.78500000e+01, -1.22250000e+02]])\n",
      "array([4.526, 3.585, 3.521, 3.413, 3.422])\n"
     ]
    }
   ],
   "source": [
    "import pprint\n",
    "#展示数据 查看规律\n",
    "pprint.pprint(housing.data[0:5])\n",
    "pprint.pprint(housing.target[0:5])"
   ]
  },
  {
   "cell_type": "code",
   "execution_count": 4,
   "metadata": {},
   "outputs": [
    {
     "name": "stdout",
     "output_type": "stream",
     "text": [
      "(11610, 8) (11610,)\n",
      "(3870, 8) (3870,)\n",
      "(5160, 8) (5160,)\n"
     ]
    }
   ],
   "source": [
    "from sklearn.model_selection import train_test_split\n",
    "\n",
    "#数据切割 训练集 验证集 测试\n",
    "x_train_all, x_test, y_train_all, y_test = train_test_split(housing.data, housing.target, random_state=7, test_size=0.25)\n",
    "x_train, x_valid, y_train, y_valid = train_test_split(x_train_all, y_train_all, random_state=11)\n",
    "\n",
    "print(x_train.shape, y_train.shape)\n",
    "print(x_valid.shape, y_valid.shape)\n",
    "print(x_test.shape, y_test.shape)"
   ]
  },
  {
   "cell_type": "code",
   "execution_count": 5,
   "metadata": {},
   "outputs": [],
   "source": [
    "from sklearn.preprocessing import StandardScaler\n",
    "\n",
    "#数据归一化\n",
    "scaler = StandardScaler()\n",
    "x_train_scaled = scaler.fit_transform(x_train)\n",
    "x_valid_scaled = scaler.transform(x_valid)\n",
    "x_test_scaled =  scaler.transform(x_test)"
   ]
  },
  {
   "cell_type": "code",
   "execution_count": 11,
   "metadata": {},
   "outputs": [
    {
     "name": "stdout",
     "output_type": "stream",
     "text": [
      "Model: \"sequential_2\"\n",
      "_________________________________________________________________\n",
      "Layer (type)                 Output Shape              Param #   \n",
      "=================================================================\n",
      "dense_6 (Dense)              (None, 50)                450       \n",
      "_________________________________________________________________\n",
      "dense_7 (Dense)              (None, 30)                1530      \n",
      "_________________________________________________________________\n",
      "dense_8 (Dense)              (None, 1)                 31        \n",
      "=================================================================\n",
      "Total params: 2,011\n",
      "Trainable params: 2,011\n",
      "Non-trainable params: 0\n",
      "_________________________________________________________________\n"
     ]
    }
   ],
   "source": [
    "#model构建\n",
    "model = keras.models.Sequential([\n",
    "    keras.layers.Dense(50, activation='relu', input_shape=x_train.shape[1:]),\n",
    "    keras.layers.Dense(30, activation='relu'),\n",
    "    keras.layers.Dense(1)\n",
    "])\n",
    "\n",
    "model.summary()\n",
    "# 自定义  损失函数\n",
    "def customized_mse(y_true, y_pred):\n",
    "    return tf.reduce_mean(tf.square(y_true - y_pred))\n",
    "\n",
    "model.compile(loss=customized_mse, optimizer='sgd', metrics=['accuracy','mean_squared_error'])\n",
    "\n",
    "callbacks = [keras.callbacks.EarlyStopping(patience=5, min_delta=1e-15)]"
   ]
  },
  {
   "cell_type": "code",
   "execution_count": 7,
   "metadata": {},
   "outputs": [
    {
     "name": "stdout",
     "output_type": "stream",
     "text": [
      "Train on 11610 samples, validate on 3870 samples\n",
      "Epoch 1/100\n",
      "11610/11610 [==============================] - 3s 288us/sample - loss: 0.7209 - accuracy: 0.0030 - mean_squared_error: 0.7209 - val_loss: 0.5273 - val_accuracy: 0.0023 - val_mean_squared_error: 0.5273\n",
      "Epoch 2/100\n",
      "11610/11610 [==============================] - 1s 73us/sample - loss: 0.4566 - accuracy: 0.0031 - mean_squared_error: 0.4566 - val_loss: 0.5080 - val_accuracy: 0.0023 - val_mean_squared_error: 0.5080\n",
      "Epoch 3/100\n",
      "11610/11610 [==============================] - 1s 77us/sample - loss: 0.4161 - accuracy: 0.0031 - mean_squared_error: 0.4161 - val_loss: 0.4250 - val_accuracy: 0.0023 - val_mean_squared_error: 0.4250\n",
      "Epoch 4/100\n",
      "11610/11610 [==============================] - 1s 68us/sample - loss: 0.3933 - accuracy: 0.0031 - mean_squared_error: 0.3933 - val_loss: 0.4031 - val_accuracy: 0.0023 - val_mean_squared_error: 0.4031\n",
      "Epoch 5/100\n",
      "11610/11610 [==============================] - 1s 66us/sample - loss: 0.3802 - accuracy: 0.0031 - mean_squared_error: 0.3802 - val_loss: 0.3909 - val_accuracy: 0.0023 - val_mean_squared_error: 0.3909\n",
      "Epoch 6/100\n",
      "11610/11610 [==============================] - 1s 68us/sample - loss: 0.3733 - accuracy: 0.0031 - mean_squared_error: 0.3733 - val_loss: 0.3795 - val_accuracy: 0.0023 - val_mean_squared_error: 0.3795\n",
      "Epoch 7/100\n",
      "11610/11610 [==============================] - 1s 68us/sample - loss: 0.3677 - accuracy: 0.0031 - mean_squared_error: 0.3677 - val_loss: 0.3744 - val_accuracy: 0.0023 - val_mean_squared_error: 0.3744\n",
      "Epoch 8/100\n",
      "11610/11610 [==============================] - 1s 73us/sample - loss: 0.3611 - accuracy: 0.0031 - mean_squared_error: 0.3611 - val_loss: 0.3667 - val_accuracy: 0.0023 - val_mean_squared_error: 0.3667\n",
      "Epoch 9/100\n",
      "11610/11610 [==============================] - 1s 69us/sample - loss: 0.3552 - accuracy: 0.0031 - mean_squared_error: 0.3552 - val_loss: 0.3628 - val_accuracy: 0.0023 - val_mean_squared_error: 0.3628\n",
      "Epoch 10/100\n",
      "11610/11610 [==============================] - 1s 69us/sample - loss: 0.3480 - accuracy: 0.0031 - mean_squared_error: 0.3480 - val_loss: 0.3645 - val_accuracy: 0.0023 - val_mean_squared_error: 0.3645\n",
      "Epoch 11/100\n",
      "11610/11610 [==============================] - 1s 68us/sample - loss: 0.3416 - accuracy: 0.0031 - mean_squared_error: 0.3416 - val_loss: 0.3594 - val_accuracy: 0.0023 - val_mean_squared_error: 0.3594\n",
      "Epoch 12/100\n",
      "11610/11610 [==============================] - 1s 67us/sample - loss: 0.3404 - accuracy: 0.0031 - mean_squared_error: 0.3404 - val_loss: 0.3502 - val_accuracy: 0.0023 - val_mean_squared_error: 0.3502\n",
      "Epoch 13/100\n",
      "11610/11610 [==============================] - 1s 70us/sample - loss: 0.3372 - accuracy: 0.0031 - mean_squared_error: 0.3372 - val_loss: 0.3463 - val_accuracy: 0.0023 - val_mean_squared_error: 0.3463\n",
      "Epoch 14/100\n",
      "11610/11610 [==============================] - 1s 75us/sample - loss: 0.3377 - accuracy: 0.0031 - mean_squared_error: 0.3377 - val_loss: 0.3511 - val_accuracy: 0.0023 - val_mean_squared_error: 0.3511\n",
      "Epoch 15/100\n",
      "11610/11610 [==============================] - 1s 63us/sample - loss: 0.3293 - accuracy: 0.0031 - mean_squared_error: 0.3293 - val_loss: 0.3418 - val_accuracy: 0.0023 - val_mean_squared_error: 0.3418\n",
      "Epoch 16/100\n",
      "11610/11610 [==============================] - 1s 62us/sample - loss: 0.3272 - accuracy: 0.0031 - mean_squared_error: 0.3272 - val_loss: 0.3384 - val_accuracy: 0.0023 - val_mean_squared_error: 0.3384\n",
      "Epoch 17/100\n",
      "11610/11610 [==============================] - 1s 59us/sample - loss: 0.3226 - accuracy: 0.0031 - mean_squared_error: 0.3226 - val_loss: 0.3393 - val_accuracy: 0.0023 - val_mean_squared_error: 0.3393\n",
      "Epoch 18/100\n",
      "11610/11610 [==============================] - 1s 64us/sample - loss: 0.3221 - accuracy: 0.0031 - mean_squared_error: 0.3221 - val_loss: 0.3409 - val_accuracy: 0.0023 - val_mean_squared_error: 0.3409\n",
      "Epoch 19/100\n",
      "11610/11610 [==============================] - 1s 69us/sample - loss: 0.3180 - accuracy: 0.0031 - mean_squared_error: 0.3180 - val_loss: 0.3352 - val_accuracy: 0.0023 - val_mean_squared_error: 0.3352\n",
      "Epoch 20/100\n",
      "11610/11610 [==============================] - 1s 67us/sample - loss: 0.3144 - accuracy: 0.0031 - mean_squared_error: 0.3144 - val_loss: 0.3336 - val_accuracy: 0.0023 - val_mean_squared_error: 0.3336\n",
      "Epoch 21/100\n",
      "11610/11610 [==============================] - 1s 63us/sample - loss: 0.3120 - accuracy: 0.0031 - mean_squared_error: 0.3120 - val_loss: 0.3346 - val_accuracy: 0.0023 - val_mean_squared_error: 0.3346\n",
      "Epoch 22/100\n",
      "11610/11610 [==============================] - 1s 67us/sample - loss: 0.3094 - accuracy: 0.0031 - mean_squared_error: 0.3094 - val_loss: 0.3269 - val_accuracy: 0.0023 - val_mean_squared_error: 0.3269\n",
      "Epoch 23/100\n",
      "11610/11610 [==============================] - 1s 78us/sample - loss: 0.3096 - accuracy: 0.0031 - mean_squared_error: 0.3096 - val_loss: 0.3304 - val_accuracy: 0.0023 - val_mean_squared_error: 0.3304\n",
      "Epoch 24/100\n",
      "11610/11610 [==============================] - 1s 70us/sample - loss: 0.3070 - accuracy: 0.0031 - mean_squared_error: 0.3070 - val_loss: 0.3320 - val_accuracy: 0.0023 - val_mean_squared_error: 0.3320\n",
      "Epoch 25/100\n",
      "11610/11610 [==============================] - 1s 61us/sample - loss: 0.3038 - accuracy: 0.0031 - mean_squared_error: 0.3038 - val_loss: 0.3269 - val_accuracy: 0.0023 - val_mean_squared_error: 0.3269\n",
      "Epoch 26/100\n",
      "11610/11610 [==============================] - 1s 69us/sample - loss: 0.3014 - accuracy: 0.0031 - mean_squared_error: 0.3014 - val_loss: 0.3318 - val_accuracy: 0.0023 - val_mean_squared_error: 0.3318\n",
      "Epoch 27/100\n",
      "11610/11610 [==============================] - 1s 73us/sample - loss: 0.3019 - accuracy: 0.0031 - mean_squared_error: 0.3019 - val_loss: 0.3214 - val_accuracy: 0.0023 - val_mean_squared_error: 0.3214\n",
      "Epoch 28/100\n",
      "11610/11610 [==============================] - 1s 72us/sample - loss: 0.2999 - accuracy: 0.0031 - mean_squared_error: 0.2999 - val_loss: 0.3199 - val_accuracy: 0.0023 - val_mean_squared_error: 0.3199\n",
      "Epoch 29/100\n",
      "11610/11610 [==============================] - 1s 67us/sample - loss: 0.2969 - accuracy: 0.0030 - mean_squared_error: 0.2969 - val_loss: 0.3171 - val_accuracy: 0.0023 - val_mean_squared_error: 0.3171\n",
      "Epoch 30/100\n",
      "11610/11610 [==============================] - 1s 66us/sample - loss: 0.2961 - accuracy: 0.0031 - mean_squared_error: 0.2961 - val_loss: 0.3194 - val_accuracy: 0.0023 - val_mean_squared_error: 0.3194\n",
      "Epoch 31/100\n",
      "11610/11610 [==============================] - 1s 62us/sample - loss: 0.2952 - accuracy: 0.0031 - mean_squared_error: 0.2952 - val_loss: 0.3792 - val_accuracy: 0.0023 - val_mean_squared_error: 0.3792\n",
      "Epoch 32/100\n",
      "11610/11610 [==============================] - 1s 62us/sample - loss: 0.2956 - accuracy: 0.0031 - mean_squared_error: 0.2956 - val_loss: 0.3280 - val_accuracy: 0.0023 - val_mean_squared_error: 0.3280\n",
      "Epoch 33/100\n",
      "11610/11610 [==============================] - 1s 64us/sample - loss: 0.2931 - accuracy: 0.0030 - mean_squared_error: 0.2931 - val_loss: 0.3295 - val_accuracy: 0.0023 - val_mean_squared_error: 0.3295\n",
      "Epoch 34/100\n",
      "11610/11610 [==============================] - 1s 73us/sample - loss: 0.2915 - accuracy: 0.0031 - mean_squared_error: 0.2915 - val_loss: 0.3122 - val_accuracy: 0.0023 - val_mean_squared_error: 0.3122\n",
      "Epoch 35/100\n",
      "11610/11610 [==============================] - 1s 77us/sample - loss: 0.2898 - accuracy: 0.0031 - mean_squared_error: 0.2898 - val_loss: 0.3083 - val_accuracy: 0.0023 - val_mean_squared_error: 0.3083\n",
      "Epoch 36/100\n",
      "11610/11610 [==============================] - 1s 71us/sample - loss: 0.2886 - accuracy: 0.0031 - mean_squared_error: 0.2886 - val_loss: 0.3069 - val_accuracy: 0.0023 - val_mean_squared_error: 0.3069\n",
      "Epoch 37/100\n",
      "11610/11610 [==============================] - 1s 69us/sample - loss: 0.2896 - accuracy: 0.0031 - mean_squared_error: 0.2896 - val_loss: 0.3232 - val_accuracy: 0.0023 - val_mean_squared_error: 0.3232\n",
      "Epoch 38/100\n",
      "11610/11610 [==============================] - 1s 71us/sample - loss: 0.2866 - accuracy: 0.0031 - mean_squared_error: 0.2866 - val_loss: 0.3168 - val_accuracy: 0.0023 - val_mean_squared_error: 0.3168\n",
      "Epoch 39/100\n",
      "11610/11610 [==============================] - 1s 70us/sample - loss: 0.2871 - accuracy: 0.0030 - mean_squared_error: 0.2871 - val_loss: 0.3032 - val_accuracy: 0.0023 - val_mean_squared_error: 0.3032\n",
      "Epoch 40/100\n",
      "11610/11610 [==============================] - 1s 67us/sample - loss: 0.2857 - accuracy: 0.0030 - mean_squared_error: 0.2857 - val_loss: 0.3062 - val_accuracy: 0.0023 - val_mean_squared_error: 0.3062\n",
      "Epoch 41/100\n",
      "11610/11610 [==============================] - 1s 69us/sample - loss: 0.2880 - accuracy: 0.0031 - mean_squared_error: 0.2880 - val_loss: 0.3075 - val_accuracy: 0.0023 - val_mean_squared_error: 0.3075\n",
      "Epoch 42/100\n",
      "11610/11610 [==============================] - 1s 69us/sample - loss: 0.2839 - accuracy: 0.0030 - mean_squared_error: 0.2839 - val_loss: 0.3008 - val_accuracy: 0.0023 - val_mean_squared_error: 0.3008\n",
      "Epoch 43/100\n",
      "11610/11610 [==============================] - 1s 66us/sample - loss: 0.2822 - accuracy: 0.0031 - mean_squared_error: 0.2822 - val_loss: 0.3014 - val_accuracy: 0.0023 - val_mean_squared_error: 0.3014\n",
      "Epoch 44/100\n",
      "11610/11610 [==============================] - 1s 92us/sample - loss: 0.2819 - accuracy: 0.0029 - mean_squared_error: 0.2819 - val_loss: 0.3024 - val_accuracy: 0.0023 - val_mean_squared_error: 0.3024\n",
      "Epoch 45/100\n",
      "11610/11610 [==============================] - 1s 86us/sample - loss: 0.2814 - accuracy: 0.0029 - mean_squared_error: 0.2814 - val_loss: 0.3022 - val_accuracy: 0.0023 - val_mean_squared_error: 0.3022\n",
      "Epoch 46/100\n",
      "11610/11610 [==============================] - 1s 83us/sample - loss: 0.2805 - accuracy: 0.0030 - mean_squared_error: 0.2805 - val_loss: 0.3056 - val_accuracy: 0.0023 - val_mean_squared_error: 0.3056\n",
      "Epoch 47/100\n",
      "11610/11610 [==============================] - 1s 81us/sample - loss: 0.2792 - accuracy: 0.0030 - mean_squared_error: 0.2792 - val_loss: 0.2986 - val_accuracy: 0.0023 - val_mean_squared_error: 0.2986\n",
      "Epoch 48/100\n",
      "11610/11610 [==============================] - 1s 74us/sample - loss: 0.2802 - accuracy: 0.0030 - mean_squared_error: 0.2802 - val_loss: 0.3014 - val_accuracy: 0.0023 - val_mean_squared_error: 0.3014\n",
      "Epoch 49/100\n",
      "11610/11610 [==============================] - 1s 68us/sample - loss: 0.2765 - accuracy: 0.0030 - mean_squared_error: 0.2765 - val_loss: 0.2996 - val_accuracy: 0.0023 - val_mean_squared_error: 0.2996\n",
      "Epoch 50/100\n",
      "11610/11610 [==============================] - 1s 70us/sample - loss: 0.2769 - accuracy: 0.0030 - mean_squared_error: 0.2769 - val_loss: 0.2981 - val_accuracy: 0.0023 - val_mean_squared_error: 0.2981\n",
      "Epoch 51/100\n",
      "11610/11610 [==============================] - 1s 79us/sample - loss: 0.2743 - accuracy: 0.0030 - mean_squared_error: 0.2743 - val_loss: 0.3077 - val_accuracy: 0.0023 - val_mean_squared_error: 0.3077\n",
      "Epoch 52/100\n",
      "11610/11610 [==============================] - 1s 79us/sample - loss: 0.2755 - accuracy: 0.0030 - mean_squared_error: 0.2755 - val_loss: 0.3018 - val_accuracy: 0.0023 - val_mean_squared_error: 0.3018\n",
      "Epoch 53/100\n",
      "11610/11610 [==============================] - 1s 73us/sample - loss: 0.2749 - accuracy: 0.0030 - mean_squared_error: 0.2749 - val_loss: 0.2934 - val_accuracy: 0.0023 - val_mean_squared_error: 0.2934\n",
      "Epoch 54/100\n",
      "11610/11610 [==============================] - 1s 70us/sample - loss: 0.2737 - accuracy: 0.0030 - mean_squared_error: 0.2737 - val_loss: 0.3042 - val_accuracy: 0.0023 - val_mean_squared_error: 0.3042\n",
      "Epoch 55/100\n",
      "11610/11610 [==============================] - 1s 70us/sample - loss: 0.2730 - accuracy: 0.0030 - mean_squared_error: 0.2730 - val_loss: 0.3004 - val_accuracy: 0.0023 - val_mean_squared_error: 0.3004\n",
      "Epoch 56/100\n",
      "11610/11610 [==============================] - 1s 68us/sample - loss: 0.2718 - accuracy: 0.0030 - mean_squared_error: 0.2718 - val_loss: 0.3040 - val_accuracy: 0.0023 - val_mean_squared_error: 0.3040\n",
      "Epoch 57/100\n",
      "11610/11610 [==============================] - 1s 82us/sample - loss: 0.2723 - accuracy: 0.0030 - mean_squared_error: 0.2723 - val_loss: 0.2973 - val_accuracy: 0.0023 - val_mean_squared_error: 0.2973\n",
      "Epoch 58/100\n",
      "11610/11610 [==============================] - 1s 69us/sample - loss: 0.2704 - accuracy: 0.0030 - mean_squared_error: 0.2704 - val_loss: 0.3008 - val_accuracy: 0.0023 - val_mean_squared_error: 0.3008\n"
     ]
    }
   ],
   "source": [
    "history = model.fit(x_train_scaled,y_train, validation_data = (x_valid_scaled,y_valid), epochs=100, callbacks = callbacks)"
   ]
  },
  {
   "cell_type": "code",
   "execution_count": null,
   "metadata": {},
   "outputs": [],
   "source": [
    "def plot_learning_curves(history):\n",
    "    pd.DataFrame(history.history).plot(figsize=(8, 5))\n",
    "    plt.grid(True)\n",
    "    plt.gca().set_ylim(0, 1)\n",
    "    plt.show()\n",
    "\n",
    "plot_learning_curves(history)"
   ]
  },
  {
   "cell_type": "code",
   "execution_count": null,
   "metadata": {},
   "outputs": [],
   "source": [
    "model.evaluate(x_test_scaled, y_test)"
   ]
  },
  {
   "cell_type": "code",
   "execution_count": null,
   "metadata": {},
   "outputs": [],
   "source": []
  }
 ],
 "metadata": {
  "kernelspec": {
   "display_name": "tensorflow2.0",
   "language": "python",
   "name": "tensorflow2.0"
  },
  "language_info": {
   "codemirror_mode": {
    "name": "ipython",
    "version": 3
   },
   "file_extension": ".py",
   "mimetype": "text/x-python",
   "name": "python",
   "nbconvert_exporter": "python",
   "pygments_lexer": "ipython3",
   "version": "3.7.7"
  }
 },
 "nbformat": 4,
 "nbformat_minor": 4
}
