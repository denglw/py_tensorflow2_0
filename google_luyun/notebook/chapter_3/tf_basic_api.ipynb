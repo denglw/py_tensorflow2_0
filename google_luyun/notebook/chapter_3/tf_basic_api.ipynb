{
 "cells": [
  {
   "cell_type": "code",
   "execution_count": 1,
   "metadata": {},
   "outputs": [
    {
     "name": "stdout",
     "output_type": "stream",
     "text": [
      "2.0.0\n",
      "sys.version_info(major=3, minor=7, micro=7, releaselevel='final', serial=0)\n",
      "matplotlib 3.2.2\n",
      "numpy 1.19.0\n",
      "pandas 1.0.5\n",
      "sklearn 0.23.1\n",
      "tensorflow 2.0.0\n",
      "tensorflow_core.keras 2.2.4-tf\n"
     ]
    }
   ],
   "source": [
    "import matplotlib as mpl\n",
    "import matplotlib.pyplot as plt\n",
    "%matplotlib inline\n",
    "import numpy as np\n",
    "import pandas as pd\n",
    "import sklearn\n",
    "import sys\n",
    "import os\n",
    "import time\n",
    "import tensorflow as tf\n",
    "from tensorflow import keras\n",
    "\n",
    "print(tf.__version__)\n",
    "print(sys.version_info)\n",
    "for model in mpl, np, pd, sklearn, tf, keras:\n",
    "    print(model.__name__,model.__version__)\n",
    "    \n",
    "    "
   ]
  },
  {
   "cell_type": "code",
   "execution_count": 2,
   "metadata": {},
   "outputs": [
    {
     "name": "stdout",
     "output_type": "stream",
     "text": [
      "tf.Tensor(\n",
      "[[1 2 3]\n",
      " [4 5 6]], shape=(2, 3), dtype=int32)\n",
      "tf.Tensor(\n",
      "[[2 3]\n",
      " [5 6]], shape=(2, 2), dtype=int32)\n",
      "tf.Tensor([2 5], shape=(2,), dtype=int32)\n",
      "tf.Tensor([1 2 3 4 5 6 7], shape=(7,), dtype=int32)\n",
      "tf.Tensor(\n",
      "[[-1. -1. -1.]\n",
      " [-1. -1. -1.]], shape=(2, 3), dtype=float32)\n",
      "tf.Tensor(\n",
      "[[1 2 3]\n",
      " [4 5 6]], shape=(2, 3), dtype=int32)\n"
     ]
    }
   ],
   "source": [
    "# index\n",
    "t = tf.constant([[1,2,3],[4,5,6]]) # 2*3矩阵\n",
    "print(t)\n",
    "print(t[:,1:])\n",
    "print(t[:,1])\n",
    "b = tf.constant([1,2,3,4,5,6,7]) # 一维向量 7个值\n",
    "print(b)\n",
    "c = tf.constant(-1.0,shape=[2,3]) # 2*3\n",
    "print(c)\n",
    "print(tf.constant([1,2,3,4,5,6],shape=[2,3])) #指定shape"
   ]
  },
  {
   "cell_type": "code",
   "execution_count": 3,
   "metadata": {},
   "outputs": [
    {
     "name": "stdout",
     "output_type": "stream",
     "text": [
      "tf.Tensor(\n",
      "[[11 12 13]\n",
      " [14 15 16]], shape=(2, 3), dtype=int32)\n",
      "tf.Tensor(\n",
      "[[ 1  4  9]\n",
      " [16 25 36]], shape=(2, 3), dtype=int32)\n",
      "tf.Tensor(\n",
      "[[1 2 3]\n",
      " [4 5 6]], shape=(2, 3), dtype=int32)\n",
      "tf.Tensor(\n",
      "[[1 4]\n",
      " [2 5]\n",
      " [3 6]], shape=(3, 2), dtype=int32)\n",
      "tf.Tensor(\n",
      "[[14 32]\n",
      " [32 77]], shape=(2, 2), dtype=int32)\n"
     ]
    }
   ],
   "source": [
    "# opt\n",
    "print(t+10)\n",
    "print(tf.square(t))\n",
    "print(t)\n",
    "print(tf.transpose(t)) #转置 3*2矩阵\n",
    "print(t @ tf.transpose(t)) # 2*3 @ 3*2 -->2*2 矩阵相乘"
   ]
  },
  {
   "cell_type": "code",
   "execution_count": 4,
   "metadata": {},
   "outputs": [
    {
     "name": "stdout",
     "output_type": "stream",
     "text": [
      "[[1 2 3]\n",
      " [4 5 6]]\n",
      "[[ 1  4  9]\n",
      " [16 25 36]]\n",
      "tf.Tensor(\n",
      "[[1. 2. 3.]\n",
      " [4. 5. 6.]], shape=(2, 3), dtype=float64)\n"
     ]
    }
   ],
   "source": [
    "# numpy conversion\n",
    "print(t.numpy())\n",
    "print(np.square(t))\n",
    "a = np.array([[1.,2.,3.],[4.,5.,6.]])\n",
    "print(tf.constant(a))"
   ]
  },
  {
   "cell_type": "code",
   "execution_count": 9,
   "metadata": {},
   "outputs": [
    {
     "name": "stdout",
     "output_type": "stream",
     "text": [
      "tf.Tensor(2020, shape=(), dtype=int32)\n",
      "2020\n",
      "()\n",
      "tf.Tensor(10, shape=(), dtype=int32)\n",
      "10\n"
     ]
    }
   ],
   "source": [
    "# Scalars\n",
    "s = tf.constant(2020)\n",
    "print(s)\n",
    "print(s.numpy())\n",
    "print(s.shape)\n",
    "s2 = tf.constant(10,shape=[])\n",
    "print(s2)\n",
    "print(s2.numpy())"
   ]
  },
  {
   "cell_type": "code",
   "execution_count": 10,
   "metadata": {},
   "outputs": [
    {
     "name": "stdout",
     "output_type": "stream",
     "text": [
      "tf.Tensor(b'cafe', shape=(), dtype=string)\n",
      "tf.Tensor(4, shape=(), dtype=int32)\n",
      "tf.Tensor(4, shape=(), dtype=int32)\n",
      "tf.Tensor([ 99  97 102 101], shape=(4,), dtype=int32)\n"
     ]
    }
   ],
   "source": [
    "# strings\n",
    "t = tf.constant(\"cafe\")\n",
    "print(t)\n",
    "print(tf.strings.length(t))\n",
    "print(tf.strings.length(t,unit='UTF8_CHAR')) # scalar标量\n",
    "print(tf.strings.unicode_decode(t,'UTF-8')) #每个字母进行转换 tensor向量"
   ]
  },
  {
   "cell_type": "code",
   "execution_count": 11,
   "metadata": {},
   "outputs": [
    {
     "name": "stdout",
     "output_type": "stream",
     "text": [
      "tf.Tensor([b'cafe' b'coffee' b'\\xe5\\x92\\x96\\xe5\\x95\\xa1'], shape=(3,), dtype=string)\n",
      "tf.Tensor([4 6 2], shape=(3,), dtype=int32)\n",
      "<tf.RaggedTensor [[99, 97, 102, 101], [99, 111, 102, 102, 101, 101], [21654, 21857]]>\n"
     ]
    }
   ],
   "source": [
    "# string array\n",
    "t = tf.constant(['cafe','coffee','咖啡'])\n",
    "print(t)\n",
    "print(tf.strings.length(t,unit='UTF8_CHAR'))\n",
    "print(tf.strings.unicode_decode(t,'UTF-8'))"
   ]
  },
  {
   "cell_type": "code",
   "execution_count": 12,
   "metadata": {},
   "outputs": [
    {
     "name": "stdout",
     "output_type": "stream",
     "text": [
      "<tf.RaggedTensor [[11, 12], [21, 22, 23], [], [41]]>\n",
      "tf.Tensor([21 22 23], shape=(3,), dtype=int32)\n",
      "<tf.RaggedTensor [[21, 22, 23], [], [41]]>\n",
      "<tf.RaggedTensor [[21, 22, 23], []]>\n"
     ]
    }
   ],
   "source": [
    "# ragged tensor\n",
    "# index\n",
    "r = tf.ragged.constant([[11,12],[21,22,23],[],[41]])\n",
    "print(r)\n",
    "print(r[1])\n",
    "print(r[1:])\n",
    "print(r[1:3])"
   ]
  },
  {
   "cell_type": "code",
   "execution_count": 13,
   "metadata": {},
   "outputs": [
    {
     "name": "stdout",
     "output_type": "stream",
     "text": [
      "<tf.RaggedTensor [[11, 12], [21, 22, 23], [], [41], [51, 52], [], [71]]>\n"
     ]
    }
   ],
   "source": [
    "# ragged tensor ops\n",
    "r2 = tf.ragged.constant([[51,52],[],[71]])\n",
    "print(tf.concat([r,r2],axis =0))"
   ]
  },
  {
   "cell_type": "code",
   "execution_count": 23,
   "metadata": {},
   "outputs": [
    {
     "name": "stdout",
     "output_type": "stream",
     "text": [
      "<tf.RaggedTensor [[11, 12, 61, 62], [21, 22, 23, 72, 73], [], [41, 91, 92, 93]]>\n"
     ]
    }
   ],
   "source": [
    "try:\n",
    "    # print(tf.concat([r,r2],axis = 1))# 行数不同 报错\n",
    "    pass\n",
    "except TypeError as ex:\n",
    "    print(ex)\n",
    "    \n",
    "r3 = tf.ragged.constant([[61,62],[72,73],[],[91,92,93]])\n",
    "print(tf.concat([r,r3],axis = 1)) #concat当 axis=1  请注意 行数相同  4行"
   ]
  },
  {
   "cell_type": "code",
   "execution_count": 16,
   "metadata": {},
   "outputs": [
    {
     "name": "stdout",
     "output_type": "stream",
     "text": [
      "tf.Tensor(\n",
      "[[61 62  0]\n",
      " [72 73  0]\n",
      " [ 0  0  0]\n",
      " [91 92 93]], shape=(4, 3), dtype=int32)\n"
     ]
    }
   ],
   "source": [
    "# ragged tensor to tensor\n",
    "print(r3.to_tensor()) # 0全部后补"
   ]
  },
  {
   "cell_type": "code",
   "execution_count": 17,
   "metadata": {},
   "outputs": [
    {
     "name": "stdout",
     "output_type": "stream",
     "text": [
      "SparseTensor(indices=tf.Tensor(\n",
      "[[0 0]\n",
      " [1 2]], shape=(2, 2), dtype=int64), values=tf.Tensor([1 2], shape=(2,), dtype=int32), dense_shape=tf.Tensor([3 4], shape=(2,), dtype=int64))\n",
      "tf.Tensor(\n",
      "[[1 0 0 0]\n",
      " [0 0 2 0]\n",
      " [0 0 0 0]], shape=(3, 4), dtype=int32)\n"
     ]
    }
   ],
   "source": [
    "# sparse tensor\n",
    "s = tf.SparseTensor(indices =[[0,0],[1,2]], values=[1,2], dense_shape=[3,4])\n",
    "print(s)\n",
    "print(tf.sparse.to_dense(s)) #to_dense 转成密集矩阵"
   ]
  },
  {
   "cell_type": "code",
   "execution_count": 18,
   "metadata": {},
   "outputs": [
    {
     "name": "stdout",
     "output_type": "stream",
     "text": [
      "SparseTensor(indices=tf.Tensor(\n",
      "[[0 0]\n",
      " [1 2]], shape=(2, 2), dtype=int64), values=tf.Tensor([2 4], shape=(2,), dtype=int32), dense_shape=tf.Tensor([3 4], shape=(2,), dtype=int64))\n",
      "tf.Tensor(\n",
      "[[2 0 0 0]\n",
      " [0 0 4 0]\n",
      " [0 0 0 0]], shape=(3, 4), dtype=int32)\n",
      "unsupported operand type(s) for +: 'SparseTensor' and 'int'\n",
      "tf.Tensor(\n",
      "[[ 2  4]\n",
      " [10 12]\n",
      " [ 0  0]], shape=(3, 2), dtype=int32)\n"
     ]
    }
   ],
   "source": [
    "# sparse tensor ops\n",
    "s2 =  s * 2\n",
    "print(s2)\n",
    "print(tf.sparse.to_dense(s2))\n",
    "\n",
    "try:\n",
    "    s2 + 1 #无此操作\n",
    "except TypeError as ex:\n",
    "    print(ex)\n",
    "\n",
    "# 矩阵相乘\n",
    "s3 = tf.constant([[2,4],[1,3],[5,6],[7,8]])\n",
    "print(tf.sparse.sparse_dense_matmul(s,s3)) # 3x4 * 4x2 --> 3*2 "
   ]
  },
  {
   "cell_type": "code",
   "execution_count": 21,
   "metadata": {},
   "outputs": [
    {
     "name": "stdout",
     "output_type": "stream",
     "text": [
      "SparseTensor(indices=tf.Tensor(\n",
      "[[0 2]\n",
      " [0 1]], shape=(2, 2), dtype=int64), values=tf.Tensor([1 2], shape=(2,), dtype=int32), dense_shape=tf.Tensor([3 4], shape=(2,), dtype=int64))\n",
      "tf.Tensor(\n",
      "[[0 2 1 0]\n",
      " [0 0 0 0]\n",
      " [0 0 0 0]], shape=(3, 4), dtype=int32)\n"
     ]
    }
   ],
   "source": [
    "# sparse tensor  indices顺序排序否则 to_dense有异常\n",
    "s = tf.SparseTensor(indices =[[0,2],[0,1]], values=[1,2], dense_shape=[3,4])\n",
    "print(s)\n",
    "try:\n",
    "    #print(tf.sparse.to_dense(s))\n",
    "    pass\n",
    "except TypeError as ex:\n",
    "    print(ex)\n",
    "\n",
    "s_order = tf.sparse.reorder(s)\n",
    "print(tf.sparse.to_dense(s_order))"
   ]
  },
  {
   "cell_type": "code",
   "execution_count": 22,
   "metadata": {},
   "outputs": [
    {
     "name": "stdout",
     "output_type": "stream",
     "text": [
      "<tf.Variable 'Variable:0' shape=(2, 3) dtype=int32, numpy=\n",
      "array([[1, 2, 3],\n",
      "       [4, 5, 6]])>\n",
      "tf.Tensor(\n",
      "[[1 2 3]\n",
      " [4 5 6]], shape=(2, 3), dtype=int32)\n",
      "[[1 2 3]\n",
      " [4 5 6]]\n"
     ]
    }
   ],
   "source": [
    "# variable\n",
    "v = tf.Variable([[1,2,3],[4,5,6]])\n",
    "print(v)\n",
    "print(v.value())\n",
    "print(v.numpy())"
   ]
  },
  {
   "cell_type": "code",
   "execution_count": 25,
   "metadata": {},
   "outputs": [
    {
     "name": "stdout",
     "output_type": "stream",
     "text": [
      "<tf.Variable 'UnreadVariable' shape=(2, 3) dtype=int32, numpy=\n",
      "array([[ 6,  4, 14],\n",
      "       [ 6,  6,  6]])>\n",
      "<tf.Variable 'UnreadVariable' shape=(2, 3) dtype=int32, numpy=\n",
      "array([[ 7,  5, 15],\n",
      "       [ 7,  7,  7]])>\n",
      "<tf.Variable 'UnreadVariable' shape=(2, 3) dtype=int32, numpy=\n",
      "array([[ 7,  5, 15],\n",
      "       [ 3,  3,  3]])>\n",
      "<tf.Variable 'UnreadVariable' shape=(2, 3) dtype=int32, numpy=\n",
      "array([[ 7,  2, 15],\n",
      "       [ 3,  3,  3]])>\n"
     ]
    }
   ],
   "source": [
    "# variable ops\n",
    "v_assign = v.assign(2* v) #2x3\n",
    "print(v_assign)\n",
    "v_add = v_assign.assign_add([[1,1,1],[1,1,1]])\n",
    "print(v_add)\n",
    "print(v_add[1].assign([3,3,3]))\n",
    "print(v_add[0,1].assign(2))\n"
   ]
  },
  {
   "cell_type": "code",
   "execution_count": 26,
   "metadata": {},
   "outputs": [
    {
     "name": "stdout",
     "output_type": "stream",
     "text": [
      "'ResourceVariable' object does not support item assignment\n"
     ]
    }
   ],
   "source": [
    "# not = 赋值\n",
    "try:\n",
    "    v[1] = [7., 8., 9.]\n",
    "except TypeError as ex:\n",
    "    print(ex)"
   ]
  },
  {
   "cell_type": "code",
   "execution_count": null,
   "metadata": {},
   "outputs": [],
   "source": []
  }
 ],
 "metadata": {
  "kernelspec": {
   "display_name": "tensorflow2.0",
   "language": "python",
   "name": "tensorflow2.0"
  },
  "language_info": {
   "codemirror_mode": {
    "name": "ipython",
    "version": 3
   },
   "file_extension": ".py",
   "mimetype": "text/x-python",
   "name": "python",
   "nbconvert_exporter": "python",
   "pygments_lexer": "ipython3",
   "version": "3.7.7"
  }
 },
 "nbformat": 4,
 "nbformat_minor": 4
}
