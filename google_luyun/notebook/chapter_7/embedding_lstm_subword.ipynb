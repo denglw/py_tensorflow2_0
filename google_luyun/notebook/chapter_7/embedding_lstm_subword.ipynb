{
 "cells": [
  {
   "cell_type": "code",
   "execution_count": 1,
   "metadata": {},
   "outputs": [
    {
     "name": "stdout",
     "output_type": "stream",
     "text": [
      "2.0.0\n",
      "sys.version_info(major=3, minor=7, micro=7, releaselevel='final', serial=0)\n",
      "matplotlib 3.2.2\n",
      "numpy 1.19.0\n",
      "pandas 1.0.5\n",
      "sklearn 0.23.1\n",
      "tensorflow 2.0.0\n",
      "tensorflow_core.keras 2.2.4-tf\n"
     ]
    }
   ],
   "source": [
    "%matplotlib inline\n",
    "import matplotlib as mpl\n",
    "import matplotlib.pyplot as plt\n",
    "import numpy as np\n",
    "import pandas as pd\n",
    "import os\n",
    "import sys\n",
    "import time\n",
    "import sklearn\n",
    "import tensorflow as tf\n",
    "\n",
    "from tensorflow import keras\n",
    "\n",
    "print(tf.__version__)\n",
    "print(sys.version_info)\n",
    "for module in mpl,np,pd,sklearn,tf,keras:\n",
    "    print(module.__name__,module.__version__)"
   ]
  },
  {
   "cell_type": "code",
   "execution_count": 2,
   "metadata": {},
   "outputs": [
    {
     "name": "stderr",
     "output_type": "stream",
     "text": [
      "WARNING:absl:TFDS datasets with text encoding are deprecated and will be removed in a future version. Instead, you should use the plain text version and tokenize the text using `tensorflow_text` (See: https://www.tensorflow.org/tutorials/tensorflow_text/intro#tfdata_example)\n"
     ]
    },
    {
     "name": "stdout",
     "output_type": "stream",
     "text": [
      "tfds.core.DatasetInfo(\n",
      "    name='imdb_reviews',\n",
      "    version=1.0.0,\n",
      "    description='Large Movie Review Dataset.\n",
      "This is a dataset for binary sentiment classification containing substantially more data than previous benchmark datasets. We provide a set of 25,000 highly polar movie reviews for training, and 25,000 for testing. There is additional unlabeled data for use as well.',\n",
      "    homepage='http://ai.stanford.edu/~amaas/data/sentiment/',\n",
      "    features=FeaturesDict({\n",
      "        'label': ClassLabel(shape=(), dtype=tf.int64, num_classes=2),\n",
      "        'text': Text(shape=(None,), dtype=tf.int64, encoder=<SubwordTextEncoder vocab_size=8185>),\n",
      "    }),\n",
      "    total_num_examples=100000,\n",
      "    splits={\n",
      "        'test': 25000,\n",
      "        'train': 25000,\n",
      "        'unsupervised': 50000,\n",
      "    },\n",
      "    supervised_keys=('text', 'label'),\n",
      "    citation=\"\"\"@InProceedings{maas-EtAl:2011:ACL-HLT2011,\n",
      "      author    = {Maas, Andrew L.  and  Daly, Raymond E.  and  Pham, Peter T.  and  Huang, Dan  and  Ng, Andrew Y.  and  Potts, Christopher},\n",
      "      title     = {Learning Word Vectors for Sentiment Analysis},\n",
      "      booktitle = {Proceedings of the 49th Annual Meeting of the Association for Computational Linguistics: Human Language Technologies},\n",
      "      month     = {June},\n",
      "      year      = {2011},\n",
      "      address   = {Portland, Oregon, USA},\n",
      "      publisher = {Association for Computational Linguistics},\n",
      "      pages     = {142--150},\n",
      "      url       = {http://www.aclweb.org/anthology/P11-1015}\n",
      "    }\"\"\",\n",
      "    redistribution_info=,\n",
      ")\n",
      "\n"
     ]
    }
   ],
   "source": [
    "import tensorflow_datasets as tfds\n",
    "# subword-level model\n",
    "dataset, info = tfds.load('imdb_reviews/subwords8k',with_info=True,as_supervised=True)\n",
    "train_dataset , test_dataset = dataset['train'],dataset['test']\n",
    "print(info)"
   ]
  },
  {
   "cell_type": "code",
   "execution_count": 3,
   "metadata": {},
   "outputs": [
    {
     "name": "stdout",
     "output_type": "stream",
     "text": [
      "vocabulary size: 8185\n"
     ]
    }
   ],
   "source": [
    "# subword\n",
    "tokenizer = info.features['text'].encoder\n",
    "print('vocabulary size: {}'.format(tokenizer.vocab_size))\n"
   ]
  },
  {
   "cell_type": "code",
   "execution_count": 4,
   "metadata": {},
   "outputs": [
    {
     "name": "stdout",
     "output_type": "stream",
     "text": [
      "tokenized string is [6307, 2327, 2934, 7961, 9, 2724, 7975]\n",
      "original string is Tensorflow is cool.\n"
     ]
    }
   ],
   "source": [
    "# word -> subword\n",
    "sample_string = \"Tensorflow is cool.\"\n",
    "tokenized_string = tokenizer.encode(sample_string) \n",
    "print('tokenized string is {}'.format(tokenized_string))\n",
    "original_string = tokenizer.decode(tokenized_string)\n",
    "print('original string is {}'.format(original_string))"
   ]
  },
  {
   "cell_type": "code",
   "execution_count": 5,
   "metadata": {},
   "outputs": [
    {
     "name": "stdout",
     "output_type": "stream",
     "text": [
      "6307 --> \"Ten\"\n",
      "2327 --> \"sor\"\n",
      "2934 --> \"flow\"\n",
      "7961 --> \" \"\n",
      "9 --> \"is \"\n",
      "2724 --> \"cool\"\n",
      "7975 --> \".\"\n"
     ]
    }
   ],
   "source": [
    "for token in tokenized_string:\n",
    "    print('{} --> \"{}\"'.format(token,tokenizer.decode([token])))"
   ]
  },
  {
   "cell_type": "code",
   "execution_count": 6,
   "metadata": {},
   "outputs": [
    {
     "name": "stdout",
     "output_type": "stream",
     "text": [
      "(TensorShape([None, None]), TensorShape([None]))\n",
      "(TensorShape([None, None]), TensorShape([None]))\n"
     ]
    }
   ],
   "source": [
    "buffer_size = 10000\n",
    "batch_size = 64\n",
    "# dataset.padded_batch\n",
    "train_dataset = train_dataset.shuffle(buffer_size)\n",
    "#train_dataset = train_dataset.padded_batch(batch_size,train_dataset.output_shapes)\n",
    "#test_dataset = test_dataset.padded_batch(batch_szie,test_dataset.output_shapes)\n",
    "train_dataset = train_dataset.padded_batch(batch_size,tf.compat.v1.data.get_output_shapes(train_dataset))\n",
    "test_dataset = test_dataset.padded_batch(batch_size,tf.compat.v1.data.get_output_shapes(test_dataset))\n",
    "\n",
    "print(tf.compat.v1.data.get_output_shapes(train_dataset))\n",
    "print(tf.compat.v1.data.get_output_shapes(test_dataset))\n"
   ]
  },
  {
   "cell_type": "code",
   "execution_count": 7,
   "metadata": {},
   "outputs": [
    {
     "name": "stdout",
     "output_type": "stream",
     "text": [
      "Model: \"sequential\"\n",
      "_________________________________________________________________\n",
      "Layer (type)                 Output Shape              Param #   \n",
      "=================================================================\n",
      "embedding (Embedding)        (None, None, 16)          130960    \n",
      "_________________________________________________________________\n",
      "bidirectional (Bidirectional (None, None, 64)          12544     \n",
      "_________________________________________________________________\n",
      "bidirectional_1 (Bidirection (None, 64)                24832     \n",
      "_________________________________________________________________\n",
      "dense (Dense)                (None, 32)                2080      \n",
      "_________________________________________________________________\n",
      "dense_1 (Dense)              (None, 1)                 33        \n",
      "=================================================================\n",
      "Total params: 170,449\n",
      "Trainable params: 170,449\n",
      "Non-trainable params: 0\n",
      "_________________________________________________________________\n"
     ]
    }
   ],
   "source": [
    "# 双向 循环网络\n",
    "embedding_dim = 16\n",
    "batch_size = 128\n",
    "varcob_size = tokenizer.vocab_size\n",
    "# keras.layers.Bidirectional\n",
    "# keras.layers.SimpleRNN\n",
    "bidir_rnn_model = keras.models.Sequential([\n",
    "    keras.layers.Embedding(varcob_size,embedding_dim),\n",
    "    keras.layers.Bidirectional(keras.layers.LSTM(units=32,return_sequences=True)),\n",
    "    keras.layers.Bidirectional(keras.layers.LSTM(units=32,return_sequences=False)),#因为后面是全连接层 故而 False\n",
    "    keras.layers.Dense(32,activation='relu'),\n",
    "    keras.layers.Dense(1,activation='sigmoid')\n",
    "])\n",
    "\n",
    "bidir_rnn_model.summary()\n",
    "bidir_rnn_model.compile(loss='binary_crossentropy',optimizer='adam',metrics=['accuracy'])"
   ]
  },
  {
   "cell_type": "code",
   "execution_count": 8,
   "metadata": {},
   "outputs": [
    {
     "name": "stdout",
     "output_type": "stream",
     "text": [
      "Epoch 1/5\n",
      "391/391 [==============================] - 3047s 8s/step - loss: 0.6470 - accuracy: 0.6238 - val_loss: 0.0000e+00 - val_accuracy: 0.0000e+00\n",
      "Epoch 2/5\n",
      "391/391 [==============================] - 2997s 8s/step - loss: 0.5398 - accuracy: 0.7304 - val_loss: 0.7549 - val_accuracy: 0.6624\n",
      "Epoch 3/5\n",
      "391/391 [==============================] - 3395s 9s/step - loss: 0.4824 - accuracy: 0.7893 - val_loss: 0.5329 - val_accuracy: 0.7520\n",
      "Epoch 4/5\n",
      "391/391 [==============================] - 3251s 8s/step - loss: 0.4704 - accuracy: 0.7814 - val_loss: 0.5065 - val_accuracy: 0.7364\n",
      "Epoch 5/5\n",
      "391/391 [==============================] - 3441s 9s/step - loss: 0.3917 - accuracy: 0.8336 - val_loss: 0.4744 - val_accuracy: 0.7956\n"
     ]
    }
   ],
   "source": [
    "epochs =5\n",
    "history = bidir_rnn_model.fit(train_dataset,epochs=epochs,validation_data=test_dataset)\n"
   ]
  },
  {
   "cell_type": "code",
   "execution_count": 9,
   "metadata": {},
   "outputs": [
    {
     "data": {
      "image/png": "[encoded data removed]",
      "text/plain": [
       "<Figure size 576x360 with 1 Axes>"
      ]
     },
     "metadata": {
      "needs_background": "light"
     },
     "output_type": "display_data"
    },
    {
     "data": {
      "image/png": "[encoded data removed]",
      "text/plain": [
       "<Figure size 576x360 with 1 Axes>"
      ]
     },
     "metadata": {
      "needs_background": "light"
     },
     "output_type": "display_data"
    }
   ],
   "source": [
    "def plot_leraning_curves(history, label, epochs, min_value, max_value):\n",
    "    data = {}\n",
    "    data[label] = history.history[label]\n",
    "    data['val_'+label] = history.history['val_'+label]\n",
    "    pd.DataFrame(data).plot(figsize=(8, 5))\n",
    "    plt.grid(True)\n",
    "    plt.axis([0, epochs, min_value, max_value])\n",
    "    plt.show()\n",
    "    \n",
    "plot_leraning_curves(history, 'accuracy', epochs, 0, 1)\n",
    "plot_leraning_curves(history, 'loss', epochs, 0, 1)"
   ]
  },
  {
   "cell_type": "code",
   "execution_count": 10,
   "metadata": {},
   "outputs": [
    {
     "name": "stdout",
     "output_type": "stream",
     "text": [
      "391/391 [==============================] - 234s 598ms/step - loss: 0.4744 - accuracy: 0.7956\n"
     ]
    },
    {
     "data": {
      "text/plain": [
       "[0.4744124162532484, 0.7956]"
      ]
     },
     "execution_count": 10,
     "metadata": {},
     "output_type": "execute_result"
    }
   ],
   "source": [
    "bidir_rnn_model.evaluate(test_dataset)"
   ]
  },
  {
   "cell_type": "code",
   "execution_count": null,
   "metadata": {},
   "outputs": [],
   "source": []
  }
 ],
 "metadata": {
  "kernelspec": {
   "display_name": "tensorflow2.0",
   "language": "python",
   "name": "tensorflow2.0"
  },
  "language_info": {
   "codemirror_mode": {
    "name": "ipython",
    "version": 3
   },
   "file_extension": ".py",
   "mimetype": "text/x-python",
   "name": "python",
   "nbconvert_exporter": "python",
   "pygments_lexer": "ipython3",
   "version": "3.7.7"
  }
 },
 "nbformat": 4,
 "nbformat_minor": 4
}
