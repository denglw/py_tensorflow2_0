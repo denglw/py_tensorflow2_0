{
 "cells": [
  {
   "cell_type": "code",
   "execution_count": 1,
   "metadata": {},
   "outputs": [
    {
     "name": "stdout",
     "output_type": "stream",
     "text": [
      "2.0.0\n",
      "sys.version_info(major=3, minor=7, micro=7, releaselevel='final', serial=0)\n",
      "matplotlib 3.2.2\n",
      "numpy 1.19.0\n",
      "pandas 1.0.5\n",
      "sklearn 0.23.1\n",
      "tensorflow 2.0.0\n",
      "tensorflow_core.keras 2.2.4-tf\n"
     ]
    }
   ],
   "source": [
    "%matplotlib inline\n",
    "import matplotlib as mpl\n",
    "import matplotlib.pyplot as plt\n",
    "import numpy as np\n",
    "import pandas as pd\n",
    "import os\n",
    "import sys\n",
    "import time\n",
    "import sklearn\n",
    "import tensorflow as tf\n",
    "\n",
    "from tensorflow import keras\n",
    "\n",
    "print(tf.__version__)\n",
    "print(sys.version_info)\n",
    "for module in mpl,np,pd,sklearn,tf,keras:\n",
    "    print(module.__name__,module.__version__)"
   ]
  },
  {
   "cell_type": "code",
   "execution_count": null,
   "metadata": {},
   "outputs": [],
   "source": [
    "import tensorflow_datasets as tfds\n",
    "# subword-level model\n",
    "dataset, info = tfds.load('imdb_reviews/subwords8k',with_info=True,as_supervised=True)\n",
    "train_dataset , test_dataset = dataset['train'],dataset['test']\n",
    "\n",
    "print(info)"
   ]
  },
  {
   "cell_type": "code",
   "execution_count": null,
   "metadata": {},
   "outputs": [],
   "source": [
    "# subword\n",
    "tokenizer = info.features['text'].encoder\n",
    "print('vocabulary size: {}'.format(tokenizer.vocab_size))\n"
   ]
  },
  {
   "cell_type": "code",
   "execution_count": null,
   "metadata": {},
   "outputs": [],
   "source": [
    "# word -> subword\n",
    "sample_string = \"Tensorflow is cool.\"\n",
    "tokenized_string = tokenizer.encode(sample_string) \n",
    "print('tokenized string is {}'.format(tokenized_string))\n",
    "original_string = tokenizer.decode(tokenized_string)\n",
    "print('original string is {}'.format(original_string))"
   ]
  },
  {
   "cell_type": "code",
   "execution_count": null,
   "metadata": {},
   "outputs": [],
   "source": [
    "for token in tokenized_string:\n",
    "    print('{} --> \"{}\"'.format(token,tokenizer.decode([token])))"
   ]
  },
  {
   "cell_type": "code",
   "execution_count": null,
   "metadata": {},
   "outputs": [],
   "source": [
    "buffer_size = 10000\n",
    "batch_size = 64\n",
    "\n",
    "train_dataset = train_dataset.shuffle(buffer_size)\n",
    "train_dataset = train_dataset.padded_batch(batch_size,train_dataset.output_shapes)\n",
    "test_dataset = test_dataset.padded_batch(batch_szie,test_dataset.output_shapes)\n",
    "\n",
    "print(train_dataset.output_shapes)\n",
    "print(test_dataset.output_shapes)\n"
   ]
  },
  {
   "cell_type": "code",
   "execution_count": null,
   "metadata": {},
   "outputs": [],
   "source": [
    "# 双向 循环网络\n",
    "embedding_dim = 16\n",
    "batch_size = 128\n",
    "varcob_size = tokenizer.vocab_size\n",
    "# keras.layers.Bidirectional\n",
    "# keras.layers.SimpleRNN\n",
    "bidir_rnn_model = keras.models.Sequential([\n",
    "    keras.layers.Embedding(varcob_size,embedding_dim),\n",
    "    keras.layers.Bidirectional(keras.layers.LSTM(units=32,return_sequences=True)),\n",
    "    keras.layers.Bidirectional(keras.layers.LSTM(units=32,return_sequences=False)),#因为后面是全连接层 故而 False\n",
    "    keras.layers.Dense(32,activation='relu'),\n",
    "    keras.layers.Dense(1,activation='sigmoid')\n",
    "])\n",
    "\n",
    "bidir_rnn_model.summary()\n",
    "bidir_rnn_model.compile(loss='binary_crossentropy',optimizer='adam',metrics=['accuracy'])"
   ]
  },
  {
   "cell_type": "code",
   "execution_count": null,
   "metadata": {},
   "outputs": [],
   "source": [
    "epochs =10\n",
    "history = bidir_rnn_model.fit(train_dataset,epochs=epochs,validation_data=test_dataset)\n"
   ]
  },
  {
   "cell_type": "code",
   "execution_count": null,
   "metadata": {},
   "outputs": [],
   "source": [
    "def plot_leraning_curves(history, label, epochs, min_value, max_value):\n",
    "    data = {}\n",
    "    data[label] = history.history[label]\n",
    "    data['val_'+label] = history.history['val_'+label]\n",
    "    pd.DataFrame(data).plot(figsize=(8, 5))\n",
    "    plt.grid(True)\n",
    "    plt.axis([0, epochs, min_value, max_value])\n",
    "    plt.show()\n",
    "    \n",
    "plot_leraning_curves(history, 'accuracy', epochs, 0, 1)\n",
    "plot_leraning_curves(history, 'loss', epochs, 0, 1)"
   ]
  },
  {
   "cell_type": "code",
   "execution_count": null,
   "metadata": {},
   "outputs": [],
   "source": [
    "bidir_rnn_model.evaluate(test_dataset)"
   ]
  },
  {
   "cell_type": "code",
   "execution_count": null,
   "metadata": {},
   "outputs": [],
   "source": []
  }
 ],
 "metadata": {
  "kernelspec": {
   "display_name": "tensorflow2.0",
   "language": "python",
   "name": "tensorflow2.0"
  },
  "language_info": {
   "codemirror_mode": {
    "name": "ipython",
    "version": 3
   },
   "file_extension": ".py",
   "mimetype": "text/x-python",
   "name": "python",
   "nbconvert_exporter": "python",
   "pygments_lexer": "ipython3",
   "version": "3.7.7"
  }
 },
 "nbformat": 4,
 "nbformat_minor": 4
}
