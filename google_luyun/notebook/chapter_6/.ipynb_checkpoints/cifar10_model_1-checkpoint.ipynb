{
 "cells": [
  {
   "cell_type": "code",
   "execution_count": 1,
   "metadata": {
    "_cell_guid": "79c7e3d0-c299-4dcb-8224-4455121ee9b0",
    "_uuid": "d629ff2d2480ee46fbb7e2d37f6b5fab8052498a"
   },
   "outputs": [
    {
     "name": "stdout",
     "output_type": "stream",
     "text": [
      "2.0.0\n",
      "sys.version_info(major=3, minor=7, micro=7, releaselevel='final', serial=0)\n",
      "matplotlib 3.2.2\n",
      "numpy 1.19.0\n",
      "pandas 1.0.5\n",
      "sklearn 0.23.1\n",
      "tensorflow 2.0.0\n",
      "tensorflow_core.keras 2.2.4-tf\n"
     ]
    }
   ],
   "source": [
    "%matplotlib inline\n",
    "import matplotlib as mpl\n",
    "import matplotlib.pyplot as plt\n",
    "import numpy as np\n",
    "import os\n",
    "import pandas as pd\n",
    "import sklearn\n",
    "import sys\n",
    "import tensorflow as tf\n",
    "import time\n",
    "\n",
    "from tensorflow import keras\n",
    "\n",
    "print(tf.__version__)\n",
    "print(sys.version_info)\n",
    "for module in mpl, np, pd, sklearn, tf, keras:\n",
    "    print(module.__name__, module.__version__)"
   ]
  },
  {
   "cell_type": "code",
   "execution_count": 2,
   "metadata": {},
   "outputs": [
    {
     "name": "stdout",
     "output_type": "stream",
     "text": [
      "True\n",
      "True\n",
      "True\n",
      "[('./cifar10/train/1.png', 'frog'),\n",
      " ('./cifar10/train/2.png', 'truck'),\n",
      " ('./cifar10/train/3.png', 'truck'),\n",
      " ('./cifar10/train/4.png', 'deer'),\n",
      " ('./cifar10/train/5.png', 'automobile')]\n",
      "[('./cifar10/test/1.png', 'cat'),\n",
      " ('./cifar10/test/2.png', 'cat'),\n",
      " ('./cifar10/test/3.png', 'cat'),\n",
      " ('./cifar10/test/4.png', 'cat'),\n",
      " ('./cifar10/test/5.png', 'cat')]\n",
      "50000 300000\n"
     ]
    }
   ],
   "source": [
    "# 根据cifar10的数据内容\n",
    "class_names = [\n",
    "    'airplane',\n",
    "    'automobile',\n",
    "    'bird',\n",
    "    'cat',\n",
    "    'deer',\n",
    "    'dog',\n",
    "    'frog',\n",
    "    'horse',\n",
    "    'ship',\n",
    "    'truck',\n",
    "]\n",
    "# 本地数据集路径\n",
    "train_labels_file = './cifar10/trainLabels.csv'\n",
    "test_csv_file = './cifar10/sampleSubmission.csv'\n",
    "train_folder = './cifar10/train/'\n",
    "test_folder = './cifar10/test/'\n",
    "\n",
    "print(os.path.exists(train_folder))\n",
    "print(os.path.exists(test_folder))\n",
    "print(os.path.exists(train_labels_file))\n",
    "\n",
    "\n",
    "# 读取数据，组装数据\n",
    "# Parses csv files into (filename(path),label) format\n",
    "def parse_csv_file(filepath, folder):\n",
    "    \"\"\"Parses csv files into (filename(path),label) format\"\"\"\n",
    "    results = []\n",
    "    with open(filepath, 'r') as f:\n",
    "        lines = f.readlines()[1:] #不需要header \n",
    "    for line in lines:\n",
    "        image_id, label_str = line.strip('\\n').split(',')\n",
    "        image_full_path = os.path.join(folder,image_id +'.png')\n",
    "        results.append((image_full_path,label_str))\n",
    "    return results\n",
    "\n",
    "train_labels_info = parse_csv_file(train_labels_file,train_folder)\n",
    "test_csv_info = parse_csv_file(test_csv_file,test_folder)\n",
    "\n",
    "import pprint\n",
    "pprint.pprint(train_labels_info[0:5])\n",
    "pprint.pprint(test_csv_info[0:5])\n",
    "print(len(train_labels_info), len(test_csv_info))\n"
   ]
  },
  {
   "cell_type": "code",
   "execution_count": 3,
   "metadata": {},
   "outputs": [
    {
     "name": "stdout",
     "output_type": "stream",
     "text": [
      "                filepath       class\n",
      "0  ./cifar10/train/1.png        frog\n",
      "1  ./cifar10/train/2.png       truck\n",
      "2  ./cifar10/train/3.png       truck\n",
      "3  ./cifar10/train/4.png        deer\n",
      "4  ./cifar10/train/5.png  automobile\n",
      "                    filepath       class\n",
      "0  ./cifar10/train/45001.png       horse\n",
      "1  ./cifar10/train/45002.png  automobile\n",
      "2  ./cifar10/train/45003.png        deer\n",
      "3  ./cifar10/train/45004.png  automobile\n",
      "4  ./cifar10/train/45005.png    airplane\n",
      "               filepath class\n",
      "0  ./cifar10/test/1.png   cat\n",
      "1  ./cifar10/test/2.png   cat\n",
      "2  ./cifar10/test/3.png   cat\n",
      "3  ./cifar10/test/4.png   cat\n",
      "4  ./cifar10/test/5.png   cat\n"
     ]
    }
   ],
   "source": [
    "# train_df = pd.DataFrame(train_labels_info)\n",
    "train_df = pd.DataFrame(train_labels_info[0:45000])\n",
    "valid_df = pd.DataFrame(train_labels_info[45000:])\n",
    "test_df = pd.DataFrame(test_csv_info)\n",
    "# 添加列名\n",
    "train_df.columns = ['filepath','class']\n",
    "valid_df.columns = ['filepath','class']\n",
    "test_df.columns = ['filepath','class']\n",
    "print(train_df.head())\n",
    "print(valid_df.head())\n",
    "print(test_df.head())"
   ]
  },
  {
   "cell_type": "code",
   "execution_count": 4,
   "metadata": {},
   "outputs": [
    {
     "name": "stdout",
     "output_type": "stream",
     "text": [
      "Found 45000 validated image filenames belonging to 10 classes.\n",
      "Found 5000 validated image filenames belonging to 10 classes.\n",
      "45000 5000\n"
     ]
    }
   ],
   "source": [
    "# 卷积神经网络无法预处理大小不一致的图片，所以要对读取的图片进行大小变化\n",
    "# cifar10 图片是  32*32\n",
    "height = 32\n",
    "width = 32\n",
    "channels = 3 \n",
    "batch_size = 32\n",
    "num_classes = 10\n",
    "epochs = 5\n",
    "\n",
    "# 读取训练数据并作数据增强\n",
    "# 确定一些读取格式要求\n",
    "# keras.preprocessing.image.ImageDataGenerator\n",
    "train_datagen = keras.preprocessing.image.ImageDataGenerator(\n",
    "    rescale = 1./255,\n",
    "    # 图片旋转的角度范围，用来数据增强\n",
    "    rotation_range = 40,\n",
    "    # 水平平移\n",
    "    width_shift_range = 0.2,\n",
    "    # 高度平移\n",
    "    height_shift_range = 0.2,\n",
    "    # 剪切强度\n",
    "    shear_range = 0.2,\n",
    "    # 缩放强度\n",
    "    zoom_range = 0.2,\n",
    "    # 水平翻转\n",
    "    horizontal_flip = True,\n",
    "    # 对图片做处理时需要填充图片，用最近的像素点填充\n",
    "    fill_mode = \"nearest\"\n",
    ")\n",
    "# 读取训练数据\n",
    "train_generator = train_datagen.flow_from_dataframe(\n",
    "    train_df,\n",
    "    directory = './',\n",
    "    x_col = 'filepath',\n",
    "    y_col = 'class',\n",
    "    classes = class_names, # 字符类型映射\n",
    "    # 读取后将图片存什么大小 \n",
    "    target_size = (height, width),\n",
    "    batch_size = batch_size,\n",
    "    seed = 7,\n",
    "    shuffle = True,\n",
    "    # label的编码格式：字符类型\n",
    "    class_mode = 'sparse'\n",
    ")\n",
    "\n",
    "# 读取验证数据\n",
    "valid_datagen = keras.preprocessing.image.ImageDataGenerator(rescale = 1./255)\n",
    "valid_generator = valid_datagen.flow_from_dataframe(\n",
    "    valid_df,\n",
    "    directory = './',\n",
    "    x_col = 'filepath',\n",
    "    y_col = 'class',\n",
    "    classes = class_names,\n",
    "    # 读取后将图片存什么大小 \n",
    "    target_size = (height, width),\n",
    "    batch_size = batch_size,\n",
    "    seed = 7,\n",
    "    shuffle = False,\n",
    "    # label的编码格式：\n",
    "    class_mode = 'sparse')\n",
    "\n",
    "train_num = train_generator.samples\n",
    "valid_num = valid_generator.samples\n",
    "print(train_num, valid_num)"
   ]
  },
  {
   "cell_type": "code",
   "execution_count": 5,
   "metadata": {},
   "outputs": [
    {
     "name": "stdout",
     "output_type": "stream",
     "text": [
      "(32, 32, 32, 3) (32,)\n",
      "[2. 1. 4. 4. 4. 4. 6. 5. 2. 8. 4. 6. 6. 3. 7. 1. 7. 2. 8. 8. 3. 0. 5. 3.\n",
      " 9. 1. 4. 5. 6. 7. 9. 2.]\n",
      "(32, 32, 32, 3) (32,)\n",
      "[0. 7. 2. 7. 5. 5. 7. 0. 5. 4. 9. 7. 6. 3. 0. 4. 4. 4. 6. 3. 5. 4. 6. 6.\n",
      " 4. 1. 8. 2. 4. 4. 3. 0.]\n"
     ]
    }
   ],
   "source": [
    "for i in range(2):\n",
    "    x,y = train_generator.next()\n",
    "    print(x.shape,y.shape)\n",
    "    print(y)\n",
    "    \n"
   ]
  },
  {
   "cell_type": "code",
   "execution_count": 6,
   "metadata": {},
   "outputs": [
    {
     "name": "stdout",
     "output_type": "stream",
     "text": [
      "Model: \"sequential\"\n",
      "_________________________________________________________________\n",
      "Layer (type)                 Output Shape              Param #   \n",
      "=================================================================\n",
      "conv2d (Conv2D)              (None, 32, 32, 32)        896       \n",
      "_________________________________________________________________\n",
      "conv2d_1 (Conv2D)            (None, 32, 32, 32)        9248      \n",
      "_________________________________________________________________\n",
      "max_pooling2d (MaxPooling2D) (None, 16, 16, 32)        0         \n",
      "_________________________________________________________________\n",
      "conv2d_2 (Conv2D)            (None, 16, 16, 64)        18496     \n",
      "_________________________________________________________________\n",
      "conv2d_3 (Conv2D)            (None, 16, 16, 64)        36928     \n",
      "_________________________________________________________________\n",
      "max_pooling2d_1 (MaxPooling2 (None, 8, 8, 64)          0         \n",
      "_________________________________________________________________\n",
      "conv2d_4 (Conv2D)            (None, 8, 8, 128)         73856     \n",
      "_________________________________________________________________\n",
      "conv2d_5 (Conv2D)            (None, 8, 8, 128)         147584    \n",
      "_________________________________________________________________\n",
      "max_pooling2d_2 (MaxPooling2 (None, 4, 4, 128)         0         \n",
      "_________________________________________________________________\n",
      "flatten (Flatten)            (None, 2048)              0         \n",
      "_________________________________________________________________\n",
      "dense (Dense)                (None, 128)               262272    \n",
      "_________________________________________________________________\n",
      "dense_1 (Dense)              (None, 10)                1290      \n",
      "=================================================================\n",
      "Total params: 550,570\n",
      "Trainable params: 550,570\n",
      "Non-trainable params: 0\n",
      "_________________________________________________________________\n"
     ]
    }
   ],
   "source": [
    "# keras.layers.Conv2D\n",
    "# keras.layers.BatchNormalization\n",
    "# keras.layers.MaxPool2D\n",
    "model = keras.models.Sequential([\n",
    "    keras.layers.Conv2D(filters=128,kernel_size=3,padding='same',activation='relu',input_shape=[height,width,channels]),\n",
    "    keras.layers.BatchNormalization(),\n",
    "    keras.layers.Conv2D(filters=128,kernel_size=3,padding='same',activation='relu'),\n",
    "    keras.layers.BatchNormalization(),\n",
    "    keras.layers.MaxPool2D(pool_size=2),\n",
    "    keras.layers.Conv2D(filters=256,kernel_size=3,padding='same',activation='relu'),\n",
    "    keras.layers.BatchNormalization(),\n",
    "    keras.layers.Conv2D(filters=256,kernel_size=3,padding='same',activation='relu'),\n",
    "    keras.layers.BatchNormalization(),\n",
    "    keras.layers.MaxPool2D(pool_size=2),\n",
    "    keras.layers.Conv2D(filters=512,kernel_size=3,padding='same',activation='relu'),\n",
    "    keras.layers.BatchNormalization(),\n",
    "    keras.layers.Conv2D(filters=512,kernel_size=3,padding='same',activation='relu'),\n",
    "    keras.layers.BatchNormalization(),\n",
    "    keras.layers.MaxPool2D(pool_size=2),\n",
    "    keras.layers.Flatten(),\n",
    "    keras.layers.Dense(512,activation='relu'),\n",
    "    keras.layers.Dense(num_classes,activation='softmax')\n",
    "    \n",
    "])\n",
    "# 因为y是one-hot 所以 categorical_crossentropy  非 sparse_categorical_crossentropy\n",
    "model.compile(loss = 'sparse_categorical_crossentropy', optimizer = 'adam', metrics = ['accuracy']) \n",
    "\n",
    "model.summary()"
   ]
  },
  {
   "cell_type": "code",
   "execution_count": 7,
   "metadata": {},
   "outputs": [
    {
     "name": "stdout",
     "output_type": "stream",
     "text": [
      "Epoch 1/5\n",
      "1406/1406 [==============================] - 2145s 2s/step - loss: 1.8278 - accuracy: 0.3200 - val_loss: 1.4356 - val_accuracy: 0.4730\n",
      "Epoch 2/5\n",
      "1406/1406 [==============================] - 888s 632ms/step - loss: 1.5164 - accuracy: 0.4459 - val_loss: 1.3294 - val_accuracy: 0.5182\n",
      "Epoch 3/5\n",
      "1406/1406 [==============================] - 750s 534ms/step - loss: 1.3655 - accuracy: 0.5049 - val_loss: 1.0899 - val_accuracy: 0.6128\n",
      "Epoch 4/5\n",
      "1406/1406 [==============================] - 764s 544ms/step - loss: 1.2639 - accuracy: 0.5481 - val_loss: 1.0201 - val_accuracy: 0.6336\n",
      "Epoch 5/5\n",
      "1406/1406 [==============================] - 760s 541ms/step - loss: 1.1863 - accuracy: 0.5762 - val_loss: 1.1120 - val_accuracy: 0.6170\n"
     ]
    }
   ],
   "source": [
    "logdir = 'cifar10-cnn-callbacks'\n",
    "if not os.path.exists(logdir):\n",
    "    os.mkdir(logdir)    \n",
    "output_model_file = os.path.join(logdir,\"cifar10_cnn_model.h5\")\n",
    "\n",
    "callbacks = [\n",
    "    keras.callbacks.TensorBoard(logdir),\n",
    "    keras.callbacks.ModelCheckpoint(output_model_file,save_best_only=True),\n",
    "    keras.callbacks.EarlyStopping(patience=5,min_delta=1e-8)\n",
    "]\n",
    "# model.fit_generator\n",
    "history = model.fit_generator(train_generator,\n",
    "                               steps_per_epoch = train_num // batch_size,\n",
    "                               epochs = epochs,\n",
    "                               validation_data = valid_generator,\n",
    "                               validation_steps = valid_num // batch_size,\n",
    "                               callbacks=callbacks)\n"
   ]
  },
  {
   "cell_type": "code",
   "execution_count": 8,
   "metadata": {},
   "outputs": [
    {
     "data": {
      "text/plain": [
       "dict_keys(['loss', 'accuracy', 'val_loss', 'val_accuracy'])"
      ]
     },
     "execution_count": 8,
     "metadata": {},
     "output_type": "execute_result"
    }
   ],
   "source": [
    "history.history.keys()"
   ]
  },
  {
   "cell_type": "code",
   "execution_count": 9,
   "metadata": {},
   "outputs": [
    {
     "data": {
      "image/png": "[encoded data removed]",
      "text/plain": [
       "<Figure size 576x360 with 1 Axes>"
      ]
     },
     "metadata": {
      "needs_background": "light"
     },
     "output_type": "display_data"
    },
    {
     "data": {
      "image/png": "[encoded data removed]",
      "text/plain": [
       "<Figure size 576x360 with 1 Axes>"
      ]
     },
     "metadata": {
      "needs_background": "light"
     },
     "output_type": "display_data"
    }
   ],
   "source": [
    "def plot_leraning_curves(history, label, epochs, min_value, max_value):\n",
    "    data = {}\n",
    "    data[label] = history.history[label]\n",
    "    data['val_'+label] = history.history['val_'+label]\n",
    "    pd.DataFrame(data).plot(figsize=(8, 5))\n",
    "    plt.grid(True)\n",
    "    plt.axis([0, epochs, min_value, max_value])\n",
    "    plt.show()\n",
    "    \n",
    "plot_leraning_curves(history, 'accuracy', epochs, 0, 1)\n",
    "plot_leraning_curves(history, 'loss', epochs, 1.0, 2.5)"
   ]
  },
  {
   "cell_type": "code",
   "execution_count": 11,
   "metadata": {},
   "outputs": [
    {
     "name": "stdout",
     "output_type": "stream",
     "text": [
      "Found 300000 validated image filenames belonging to 10 classes.\n",
      "300000\n"
     ]
    }
   ],
   "source": [
    "# 读取测试数据\n",
    "test_datagen = keras.preprocessing.image.ImageDataGenerator(rescale = 1./255)\n",
    "test_generator = valid_datagen.flow_from_dataframe(\n",
    "    test_df,\n",
    "    directory = './',\n",
    "    x_col = 'filepath',\n",
    "    y_col = 'class',\n",
    "    classes = class_names,\n",
    "    # 读取后将图片存什么大小 \n",
    "    target_size = (height, width),\n",
    "    batch_size = batch_size,\n",
    "    seed = 7,\n",
    "    shuffle = False,\n",
    "    # label的编码格式：\n",
    "    class_mode = 'sparse')\n",
    "\n",
    "test_num = test_generator.samples\n",
    "print(test_num)"
   ]
  },
  {
   "cell_type": "code",
   "execution_count": 12,
   "metadata": {},
   "outputs": [
    {
     "name": "stdout",
     "output_type": "stream",
     "text": [
      "(300000, 10)\n"
     ]
    }
   ],
   "source": [
    "# model.predict_generator\n",
    "test_predict = model.predict_generator(test_generator,workers =10,use_multiprocessing = False)\n",
    "print(test_predict.shape)"
   ]
  },
  {
   "cell_type": "code",
   "execution_count": 13,
   "metadata": {},
   "outputs": [
    {
     "name": "stdout",
     "output_type": "stream",
     "text": [
      "[[4.2241864e-02 2.0610461e-01 2.7399790e-02 2.4546559e-01 4.7063533e-02\n",
      "  1.2511806e-01 1.8338569e-02 9.6763238e-02 1.3959457e-01 5.1910210e-02]\n",
      " [4.4441712e-01 3.7181437e-01 2.0834124e-02 1.5314970e-02 2.7126467e-02\n",
      "  1.9581197e-03 3.2620623e-03 2.3380707e-03 6.3495345e-02 4.9439382e-02]\n",
      " [3.0462539e-02 5.8136445e-01 7.2326715e-05 2.1519091e-04 6.6430126e-05\n",
      "  3.8125716e-05 6.9098409e-05 2.4354066e-04 2.5985608e-02 3.6148262e-01]\n",
      " [2.0495374e-02 1.5228636e-02 2.8887368e-04 1.7545419e-04 3.9624184e-04\n",
      "  5.8430567e-05 2.7444737e-05 3.1646577e-04 9.5703894e-01 5.9740623e-03]\n",
      " [5.5364233e-01 3.3686079e-02 3.2174051e-02 1.3126001e-02 1.2684872e-02\n",
      "  4.2421161e-03 4.2695426e-03 4.1974708e-03 3.3020666e-01 1.1770870e-02]]\n"
     ]
    }
   ],
   "source": [
    "print(test_predict[0:5])"
   ]
  },
  {
   "cell_type": "code",
   "execution_count": 14,
   "metadata": {},
   "outputs": [],
   "source": [
    "test_predict_class_indices = np.argmax(test_predict,axis=1) # axis=1行  0列\n",
    "print(test_predict_class_indices[0:5])"
   ]
  },
  {
   "cell_type": "code",
   "execution_count": 16,
   "metadata": {},
   "outputs": [],
   "source": [
    "test_predict_class = [class_names[index] for index in test_predict_class_indices] #根据index获取class name\n",
    "print(test_predict_class[0:5])"
   ]
  },
  {
   "cell_type": "code",
   "execution_count": 18,
   "metadata": {},
   "outputs": [],
   "source": [
    "# 预测结果写入文件\n",
    "def generate_submissions(filename,predict_class):\n",
    "    with open(filename,'w') as f:\n",
    "        f.write('id,label\\n')\n",
    "        for i in range(len(predict_class)):\n",
    "            f.write('%d,%s\\n'% (i+1,predict_class[i])) # i 从0开始\n",
    "            \n",
    "output_file = \"./cifar10/submission.csv\"\n",
    "generate_submissions(output_file,test_predict_class)"
   ]
  },
  {
   "cell_type": "code",
   "execution_count": null,
   "metadata": {},
   "outputs": [],
   "source": []
  }
 ],
 "metadata": {
  "kernelspec": {
   "display_name": "tensorflow2.0",
   "language": "python",
   "name": "tensorflow2.0"
  },
  "language_info": {
   "codemirror_mode": {
    "name": "ipython",
    "version": 3
   },
   "file_extension": ".py",
   "mimetype": "text/x-python",
   "name": "python",
   "nbconvert_exporter": "python",
   "pygments_lexer": "ipython3",
   "version": "3.7.7"
  }
 },
 "nbformat": 4,
 "nbformat_minor": 4
}
