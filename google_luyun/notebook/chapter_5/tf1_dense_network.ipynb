{
 "cells": [
  {
   "cell_type": "code",
   "execution_count": 1,
   "metadata": {},
   "outputs": [
    {
     "name": "stdout",
     "output_type": "stream",
     "text": [
      "1.14.0\n",
      "sys.version_info(major=3, minor=7, micro=6, releaselevel='final', serial=0)\n",
      "matplotlib 3.2.2\n",
      "numpy 1.16.0\n",
      "pandas 1.0.5\n",
      "sklearn 0.23.1\n",
      "tensorflow.python.keras.api._v1.keras 2.2.4-tf\n"
     ]
    }
   ],
   "source": [
    "import matplotlib as mpl\n",
    "import matplotlib.pyplot as plt\n",
    "%matplotlib inline\n",
    "import numpy as np\n",
    "import pandas as pd\n",
    "import os\n",
    "import sys\n",
    "import time\n",
    "import sklearn\n",
    "import tensorflow as tf\n",
    "\n",
    "from tensorflow import keras\n",
    "\n",
    "print(tf.__version__)\n",
    "print(sys.version_info)\n",
    "for model in mpl, np, pd, sklearn, keras:\n",
    "    print(model.__name__, model.__version__)"
   ]
  },
  {
   "cell_type": "code",
   "execution_count": 2,
   "metadata": {},
   "outputs": [],
   "source": [
    "fashion_mnist = keras.datasets.fashion_mnist\n",
    "(x_train_all,y_train_all),(x_test,y_test) = fashion_mnist.load_data()\n",
    "x_valid,x_train = x_train_all[:5000],x_train_all[5000:]\n",
    "y_valid,y_train = y_train_all[:5000],y_train_all[5000:]\n"
   ]
  },
  {
   "cell_type": "code",
   "execution_count": 3,
   "metadata": {},
   "outputs": [
    {
     "name": "stdout",
     "output_type": "stream",
     "text": [
      "2.0231433 -0.8105136\n"
     ]
    }
   ],
   "source": [
    "from sklearn.preprocessing import StandardScaler\n",
    "scaler = StandardScaler()\n",
    "x_train_scaled = scaler.fit_transform(x_train.astype(np.float32).reshape(-1,1)).reshape(-1,28*28)\n",
    "x_valid_scaled = scaler.transform(x_valid.astype(np.float32).reshape(-1,1)).reshape(-1,28*28)\n",
    "x_test_scaled = scaler.transform(x_test.astype(np.float32).reshape(-1,1)).reshape(-1,28*28)\n",
    "\n",
    "print(np.max(x_train_scaled),np.min(x_train_scaled))"
   ]
  },
  {
   "cell_type": "code",
   "execution_count": 11,
   "metadata": {},
   "outputs": [
    {
     "name": "stdout",
     "output_type": "stream",
     "text": [
      "WARNING:tensorflow:Entity <bound method Dense.call of <tensorflow.python.layers.core.Dense object at 0x0000000007F322C8>> could not be transformed and will be executed as-is. Please report this to the AutgoGraph team. When filing the bug, set the verbosity to 10 (on Linux, `export AUTOGRAPH_VERBOSITY=10`) and attach the full output. Cause: converting <bound method Dense.call of <tensorflow.python.layers.core.Dense object at 0x0000000007F322C8>>: AssertionError: Bad argument number for Name: 3, expecting 4\n",
      "WARNING: Entity <bound method Dense.call of <tensorflow.python.layers.core.Dense object at 0x0000000007F322C8>> could not be transformed and will be executed as-is. Please report this to the AutgoGraph team. When filing the bug, set the verbosity to 10 (on Linux, `export AUTOGRAPH_VERBOSITY=10`) and attach the full output. Cause: converting <bound method Dense.call of <tensorflow.python.layers.core.Dense object at 0x0000000007F322C8>>: AssertionError: Bad argument number for Name: 3, expecting 4\n",
      "WARNING:tensorflow:Entity <bound method Dense.call of <tensorflow.python.layers.core.Dense object at 0x0000000007F322C8>> could not be transformed and will be executed as-is. Please report this to the AutgoGraph team. When filing the bug, set the verbosity to 10 (on Linux, `export AUTOGRAPH_VERBOSITY=10`) and attach the full output. Cause: converting <bound method Dense.call of <tensorflow.python.layers.core.Dense object at 0x0000000007F322C8>>: AssertionError: Bad argument number for Name: 3, expecting 4\n",
      "WARNING: Entity <bound method Dense.call of <tensorflow.python.layers.core.Dense object at 0x0000000007F322C8>> could not be transformed and will be executed as-is. Please report this to the AutgoGraph team. When filing the bug, set the verbosity to 10 (on Linux, `export AUTOGRAPH_VERBOSITY=10`) and attach the full output. Cause: converting <bound method Dense.call of <tensorflow.python.layers.core.Dense object at 0x0000000007F322C8>>: AssertionError: Bad argument number for Name: 3, expecting 4\n",
      "WARNING:tensorflow:Entity <bound method Dense.call of <tensorflow.python.layers.core.Dense object at 0x00000000082DDE08>> could not be transformed and will be executed as-is. Please report this to the AutgoGraph team. When filing the bug, set the verbosity to 10 (on Linux, `export AUTOGRAPH_VERBOSITY=10`) and attach the full output. Cause: converting <bound method Dense.call of <tensorflow.python.layers.core.Dense object at 0x00000000082DDE08>>: AssertionError: Bad argument number for Name: 3, expecting 4\n",
      "WARNING: Entity <bound method Dense.call of <tensorflow.python.layers.core.Dense object at 0x00000000082DDE08>> could not be transformed and will be executed as-is. Please report this to the AutgoGraph team. When filing the bug, set the verbosity to 10 (on Linux, `export AUTOGRAPH_VERBOSITY=10`) and attach the full output. Cause: converting <bound method Dense.call of <tensorflow.python.layers.core.Dense object at 0x00000000082DDE08>>: AssertionError: Bad argument number for Name: 3, expecting 4\n",
      "Tensor(\"Placeholder_12:0\", shape=(?, 784), dtype=float32)\n",
      "Tensor(\"dense_17/BiasAdd:0\", shape=(?, 10), dtype=float32)\n",
      "[Train] epoch: 0,step:2749,loss:0.35273,accuracy:0.90\t[Valid] acc:0.86\n",
      "[Train] epoch: 1,step:2749,loss:0.24442,accuracy:0.90\t[Valid] acc:0.87\n",
      "[Train] epoch: 2,step:2749,loss:0.18293,accuracy:0.90\t[Valid] acc:0.88\n",
      "[Train] epoch: 3,step:2749,loss:0.20465,accuracy:0.90\t[Valid] acc:0.88\n",
      "[Train] epoch: 4,step:2749,loss:0.11881,accuracy:0.95\t[Valid] acc:0.88\n",
      "[Train] epoch: 5,step:2749,loss:0.14160,accuracy:0.95\t[Valid] acc:0.88\n",
      "[Train] epoch: 6,step:2749,loss:0.15604,accuracy:0.90\t[Valid] acc:0.89\n",
      "[Train] epoch: 7,step:2749,loss:0.22201,accuracy:0.90\t[Valid] acc:0.88\n",
      "[Train] epoch: 8,step:2749,loss:0.17188,accuracy:0.95\t[Valid] acc:0.88\n",
      "[Train] epoch: 9,step:2749,loss:0.12160,accuracy:0.95\t[Valid] acc:0.89\n"
     ]
    }
   ],
   "source": [
    "hidden_units = [100,100]\n",
    "class_num = 10\n",
    "x =tf.placeholder(tf.float32,[None,28*28])\n",
    "y =tf.placeholder(tf.int64,[None])\n",
    "\n",
    "input_for_next_layer = x\n",
    "for hidden_unit in hidden_units:\n",
    "    input_for_next_layer = tf.layers.dense(input_for_next_layer,hidden_unit,activation = tf.nn.relu)\n",
    "    \n",
    "\n",
    "logits = tf.layers.dense(input_for_next_layer,class_num)\n",
    "# last_hidden_output * W  (logits) -> softmax  -> prob\n",
    "# 1. logit -> softmax -> prob\n",
    "# 2. labels -> one_hot\n",
    "# 3. calculate cross entropy\n",
    "loss = tf.losses.sparse_softmax_cross_entropy(labels=y,logits=logits)\n",
    "\n",
    "prediction=tf.argmax(logits,1)\n",
    "correct_prediction = tf.equal(prediction,y)\n",
    "accuracy = tf.reduce_mean(tf.cast(correct_prediction,tf.float64))\n",
    "\n",
    "train_op = tf.train.AdamOptimizer(1e-3).minimize(loss)\n",
    "print(x)\n",
    "print(logits)\n",
    "                          \n",
    "#session()\n",
    "                          \n",
    "init = tf.global_variables_initializer()\n",
    "batch_size = 20 \n",
    "epochs =10\n",
    "train_steps_per_epoch = x_train.shape[0]//batch_size\n",
    "valid_steps = x_valid.shape[0]//batch_size\n",
    "\n",
    "def eval_with_sess(sess,x,y,accuracy,images,labels,batch_size):\n",
    "    eval_steps = images.shape[0]//batch_size\n",
    "    eval_accuracies = []\n",
    "    for step in range(eval_steps):\n",
    "        batch_data=images[step*batch_size:(step+1)*batch_size]\n",
    "        batch_label = labels[step*batch_size:(step+1)*batch_size]\n",
    "        accuracy_val = sess.run(accuracy,feed_dict={x:batch_data,y:batch_label})\n",
    "        eval_accuracies.append(accuracy_val)\n",
    "    return np.mean(eval_accuracies)\n",
    "\n",
    "   \n",
    "with tf.Session() as sess:\n",
    "    sess.run(init)\n",
    "    for epoch in range(epochs):\n",
    "        for step in range(train_steps_per_epoch):\n",
    "            batch_data = x_train_scaled[step*batch_size:(step+1)*batch_size]\n",
    "            batch_label = y_train[step*batch_size:(step+1)*batch_size]\n",
    "            loss_val,accuracy_val,_ = sess.run([loss, accuracy,train_op],feed_dict={x:batch_data,y:batch_label})\n",
    "            print('\\r[Train] epoch: %d,step:%d,loss:%3.5f,accuracy:%2.2f'%(\n",
    "            epoch, step,loss_val,accuracy_val),end='')\n",
    "        valid_accuracy = eval_with_sess(sess, x,y,accuracy,x_valid_scaled,y_valid,batch_size)\n",
    "        print(\"\\t[Valid] acc:%2.2f\"%(valid_accuracy))                          "
   ]
  },
  {
   "cell_type": "code",
   "execution_count": null,
   "metadata": {},
   "outputs": [],
   "source": []
  },
  {
   "cell_type": "code",
   "execution_count": null,
   "metadata": {},
   "outputs": [],
   "source": []
  }
 ],
 "metadata": {
  "kernelspec": {
   "display_name": "tensorflow1.14",
   "language": "python",
   "name": "tensorflow1.14"
  },
  "language_info": {
   "codemirror_mode": {
    "name": "ipython",
    "version": 3
   },
   "file_extension": ".py",
   "mimetype": "text/x-python",
   "name": "python",
   "nbconvert_exporter": "python",
   "pygments_lexer": "ipython3",
   "version": "3.7.6"
  }
 },
 "nbformat": 4,
 "nbformat_minor": 4
}
