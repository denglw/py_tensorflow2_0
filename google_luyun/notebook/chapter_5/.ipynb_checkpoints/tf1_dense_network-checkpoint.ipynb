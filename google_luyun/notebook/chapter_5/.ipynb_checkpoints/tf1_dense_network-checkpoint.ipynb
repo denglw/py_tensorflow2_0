{
 "cells": [
  {
   "cell_type": "code",
   "execution_count": null,
   "metadata": {},
   "outputs": [],
   "source": [
    "import matplotlib as mpl\n",
    "import matplotlib.pyplot as plt\n",
    "%matplotlib inline\n",
    "import numpy as np\n",
    "import pandas as pd\n",
    "import os\n",
    "import sys\n",
    "import time\n",
    "import sklearn\n",
    "import tensorflow as tf\n",
    "\n",
    "from tensorflow import keras\n",
    "\n",
    "print(tf.__version__)\n",
    "print(sys.version_info)\n",
    "for model in mpl, np, pd, sklearn, keras:\n",
    "    print(model.__name__, model.__version__)"
   ]
  },
  {
   "cell_type": "code",
   "execution_count": null,
   "metadata": {},
   "outputs": [],
   "source": [
    "fashion_mnist = keras.datasets.fashion_mnist\n",
    "(x_train_all,y_train_all),(x_test,y_test) = fashion_mnist.load_data()\n",
    "x_valid,x_train = x_train_all[:5000],x_train_all[5000:]\n",
    "y_valid,y_train = y_train_all[:5000],y_train_all[5000:]\n"
   ]
  },
  {
   "cell_type": "code",
   "execution_count": null,
   "metadata": {},
   "outputs": [],
   "source": [
    "from sklearn.preprocessing import StandardScaler\n",
    "scaler = StandardScaler()\n",
    "x_train_scaled = scaler.fit_transform(x_train.astype(np.float32).reshape(-1,1)).reshape(-1,28*28)\n",
    "x_valid_scaled = scaler.transform(x_valid.astype(np.float32).reshape(-1,1)).reshape(-1,28*28)\n",
    "x_test_scaled = scaler.transform(x_test.astype(np.float32).reshape(-1,1)).reshape(-1,28*28)\n",
    "\n",
    "print(np.max(x_train_scaled),np.min(x_train_scaled))"
   ]
  },
  {
   "cell_type": "code",
   "execution_count": null,
   "metadata": {},
   "outputs": [],
   "source": [
    "hidden_units = [100,100]\n",
    "class_num = 10\n",
    "x =tf.placeholder(tf.float32,[None,28*28])\n",
    "y =tf.placeholder(tf.int64,[None])\n",
    "\n",
    "input_for_next_layer = x\n",
    "for hidden_unit in hidden_units:\n",
    "    input_for_next_layer = tf.layer.dense(input_for_next_layer,hidden_unit,activation = tf.nn.relu)\n",
    "    \n",
    "\n",
    "logits = tf.layers.dense(input_for_next_layer,class_num)\n",
    "\n",
    "loss = tf.losses.sparse_categorical_crossentropy(labels=y,logits=logits)\n",
    "\n",
    "prediction = tf.argmax(logits,1)\n",
    "correct_prediction = tf.equal(prediction,y)\n",
    "accuracy = tf.reduce_mean(tf.cast(correct_prediction,tf.float64)\n",
    "\n",
    "train_op = tf.train.AdamOptimizer(le-3).minimize(loss)\n",
    "print(x)\n",
    "print(logits)\n",
    "                          \n",
    "#session()\n",
    "                          \n",
    "init = tf."
   ]
  }
 ],
 "metadata": {
  "kernelspec": {
   "display_name": "tensorflow1.14",
   "language": "python",
   "name": "tensorflow1.14"
  },
  "language_info": {
   "codemirror_mode": {
    "name": "ipython",
    "version": 3
   },
   "file_extension": ".py",
   "mimetype": "text/x-python",
   "name": "python",
   "nbconvert_exporter": "python",
   "pygments_lexer": "ipython3",
   "version": "3.7.6"
  }
 },
 "nbformat": 4,
 "nbformat_minor": 4
}
