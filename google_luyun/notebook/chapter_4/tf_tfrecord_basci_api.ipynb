{
 "cells": [
  {
   "cell_type": "code",
   "execution_count": 1,
   "metadata": {},
   "outputs": [
    {
     "name": "stdout",
     "output_type": "stream",
     "text": [
      "2.0.0\n",
      "sys.version_info(major=3, minor=7, micro=7, releaselevel='final', serial=0)\n",
      "matplotlib 3.2.2\n",
      "numpy 1.19.0\n",
      "pandas 1.0.5\n",
      "sklearn 0.23.1\n",
      "tensorflow 2.0.0\n",
      "tensorflow_core.keras 2.2.4-tf\n"
     ]
    }
   ],
   "source": [
    "import matplotlib as mpl\n",
    "import matplotlib.pyplot as plt\n",
    "%matplotlib inline\n",
    "import numpy as np\n",
    "import sklearn\n",
    "import pandas as pd\n",
    "import os\n",
    "import sys\n",
    "import time\n",
    "import tensorflow as tf\n",
    "\n",
    "from tensorflow import keras\n",
    "\n",
    "print(tf.__version__)\n",
    "print(sys.version_info)\n",
    "for module in mpl, np, pd, sklearn, tf, keras:\n",
    "    print(module.__name__, module.__version__)"
   ]
  },
  {
   "cell_type": "code",
   "execution_count": 6,
   "metadata": {},
   "outputs": [
    {
     "name": "stdout",
     "output_type": "stream",
     "text": [
      "value: \"machine learning\"\n",
      "value: \"cc150\"\n",
      "\n",
      "value: 20.0\n",
      "value: 2.0\n",
      "value: 3.4000000953674316\n",
      "value: 5.5\n",
      "value: 8.0\n",
      "value: 8.0\n",
      "\n",
      "value: 32\n",
      "\n",
      "feature {\n",
      "  key: \"age\"\n",
      "  value {\n",
      "    int64_list {\n",
      "      value: 32\n",
      "    }\n",
      "  }\n",
      "}\n",
      "feature {\n",
      "  key: \"favorite_books\"\n",
      "  value {\n",
      "    bytes_list {\n",
      "      value: \"machine learning\"\n",
      "      value: \"cc150\"\n",
      "    }\n",
      "  }\n",
      "}\n",
      "feature {\n",
      "  key: \"hours\"\n",
      "  value {\n",
      "    float_list {\n",
      "      value: 20.0\n",
      "      value: 2.0\n",
      "      value: 3.4000000953674316\n",
      "      value: 5.5\n",
      "      value: 8.0\n",
      "      value: 8.0\n",
      "    }\n",
      "  }\n",
      "}\n",
      "\n"
     ]
    }
   ],
   "source": [
    "# tfrecord 文件格式\n",
    "# -> tf.train.Example\n",
    "#    -> tf.train.Features -> {\"key\": tf.train.Feature}\n",
    "#       -> tf.train.Feature -> tf.train.ByteList/FloatList/Int64List\n",
    "\n",
    "favorite_books = [name.encode('utf-8') for name in [\"machine learning\",\"cc150\"]]\n",
    "favorite_books_bytelist = tf.train.BytesList(value = favorite_books)\n",
    "print(favorite_books_bytelist)\n",
    "\n",
    "hours_floatlist = tf.train.FloatList(value = [20,2,3.4,5.5,8,8])\n",
    "print(hours_floatlist)\n",
    "\n",
    "age_int64list = tf.train.Int64List(value=[32])\n",
    "print(age_int64list)\n",
    "\n",
    "features = tf.train.Features(\n",
    "    feature = {\"favorite_books\": tf.train.Feature(bytes_list = favorite_books_bytelist),\n",
    "               \"hours\":tf.train.Feature(float_list = hours_floatlist),\n",
    "               \"age\": tf.train.Feature(int64_list = age_int64list)\n",
    "              }\n",
    ")\n",
    "\n",
    "print(features)"
   ]
  },
  {
   "cell_type": "code",
   "execution_count": 8,
   "metadata": {},
   "outputs": [
    {
     "name": "stdout",
     "output_type": "stream",
     "text": [
      "features {\n",
      "  feature {\n",
      "    key: \"age\"\n",
      "    value {\n",
      "      int64_list {\n",
      "        value: 32\n",
      "      }\n",
      "    }\n",
      "  }\n",
      "  feature {\n",
      "    key: \"favorite_books\"\n",
      "    value {\n",
      "      bytes_list {\n",
      "        value: \"machine learning\"\n",
      "        value: \"cc150\"\n",
      "      }\n",
      "    }\n",
      "  }\n",
      "  feature {\n",
      "    key: \"hours\"\n",
      "    value {\n",
      "      float_list {\n",
      "        value: 20.0\n",
      "        value: 2.0\n",
      "        value: 3.4000000953674316\n",
      "        value: 5.5\n",
      "        value: 8.0\n",
      "        value: 8.0\n",
      "      }\n",
      "    }\n",
      "  }\n",
      "}\n",
      "\n"
     ]
    }
   ],
   "source": [
    "example = tf.train.Example(features = features)\n",
    "print(example)"
   ]
  },
  {
   "cell_type": "code",
   "execution_count": 9,
   "metadata": {},
   "outputs": [
    {
     "name": "stdout",
     "output_type": "stream",
     "text": [
      "b'\\nd\\n-\\n\\x0efavorite_books\\x12\\x1b\\n\\x19\\n\\x10machine learning\\n\\x05cc150\\n\\x0c\\n\\x03age\\x12\\x05\\x1a\\x03\\n\\x01 \\n%\\n\\x05hours\\x12\\x1c\\x12\\x1a\\n\\x18\\x00\\x00\\xa0A\\x00\\x00\\x00@\\x9a\\x99Y@\\x00\\x00\\xb0@\\x00\\x00\\x00A\\x00\\x00\\x00A'\n"
     ]
    }
   ],
   "source": [
    "serialized_example = example.SerializeToString()\n",
    "print(serialized_example)"
   ]
  },
  {
   "cell_type": "code",
   "execution_count": 10,
   "metadata": {},
   "outputs": [],
   "source": [
    "# 生成tfrecord\n",
    "output_dir = 'tfrecord_basci'\n",
    "if not os.path.exists(output_dir):\n",
    "    os.mkdir(output_dir)\n",
    "filename = \"test.tfrecord\"\n",
    "filename_fullpath = os.path.join(output_dir,filename)\n",
    "with tf.io.TFRecordWriter(filename_fullpath) as writer:\n",
    "    for i in range(3):\n",
    "        writer.write(serialized_example)"
   ]
  },
  {
   "cell_type": "code",
   "execution_count": 11,
   "metadata": {},
   "outputs": [
    {
     "name": "stdout",
     "output_type": "stream",
     "text": [
      "tf.Tensor(b'\\nd\\n-\\n\\x0efavorite_books\\x12\\x1b\\n\\x19\\n\\x10machine learning\\n\\x05cc150\\n\\x0c\\n\\x03age\\x12\\x05\\x1a\\x03\\n\\x01 \\n%\\n\\x05hours\\x12\\x1c\\x12\\x1a\\n\\x18\\x00\\x00\\xa0A\\x00\\x00\\x00@\\x9a\\x99Y@\\x00\\x00\\xb0@\\x00\\x00\\x00A\\x00\\x00\\x00A', shape=(), dtype=string)\n",
      "tf.Tensor(b'\\nd\\n-\\n\\x0efavorite_books\\x12\\x1b\\n\\x19\\n\\x10machine learning\\n\\x05cc150\\n\\x0c\\n\\x03age\\x12\\x05\\x1a\\x03\\n\\x01 \\n%\\n\\x05hours\\x12\\x1c\\x12\\x1a\\n\\x18\\x00\\x00\\xa0A\\x00\\x00\\x00@\\x9a\\x99Y@\\x00\\x00\\xb0@\\x00\\x00\\x00A\\x00\\x00\\x00A', shape=(), dtype=string)\n",
      "tf.Tensor(b'\\nd\\n-\\n\\x0efavorite_books\\x12\\x1b\\n\\x19\\n\\x10machine learning\\n\\x05cc150\\n\\x0c\\n\\x03age\\x12\\x05\\x1a\\x03\\n\\x01 \\n%\\n\\x05hours\\x12\\x1c\\x12\\x1a\\n\\x18\\x00\\x00\\xa0A\\x00\\x00\\x00@\\x9a\\x99Y@\\x00\\x00\\xb0@\\x00\\x00\\x00A\\x00\\x00\\x00A', shape=(), dtype=string)\n"
     ]
    }
   ],
   "source": [
    "# 读取tfrecord\n",
    "dataset = tf.data.TFRecordDataset([filename_fullpath])\n",
    "for serialized_example_tensor in dataset:\n",
    "    print(serialized_example_tensor)"
   ]
  },
  {
   "cell_type": "code",
   "execution_count": 24,
   "metadata": {},
   "outputs": [
    {
     "name": "stdout",
     "output_type": "stream",
     "text": [
      "b'machine learning'\n",
      "b'cc150'\n",
      "b'machine learning'\n",
      "b'cc150'\n",
      "b'machine learning'\n",
      "b'cc150'\n"
     ]
    }
   ],
   "source": [
    "# 解析tfrecord\n",
    "expected_features = {\"favorite_books\": tf.io.VarLenFeature(dtype = tf.string),\n",
    "                     \"hours\": tf.io.VarLenFeature(dtype=tf.float32),\n",
    "                     \"age\": tf.io.FixedLenFeature([],dtype = tf.int64),\n",
    "                    }\n",
    "dataset = tf.data.TFRecordDataset([filename_fullpath])\n",
    "for serialized_example_tensor in dataset:\n",
    "    example = tf.io.parse_single_example(serialized_example_tensor, expected_features) #解析\n",
    "    books = tf.sparse.to_dense(example[\"favorite_books\"],default_value=b\"\") # sparseTensor to dense\n",
    "    for book in books:\n",
    "        print(book.numpy())"
   ]
  },
  {
   "cell_type": "code",
   "execution_count": 28,
   "metadata": {},
   "outputs": [],
   "source": [
    "# 生成zip\n",
    "filename_fullpath_zip = filename_fullpath + \".zip\"\n",
    "option = tf.io.TFRecordOptions(compression_type = 'GZIP')\n",
    "with tf.io.TFRecordWriter(filename_fullpath_zip,option) as writer:\n",
    "    for i in range(3):\n",
    "        writer.write(serialized_example)\n"
   ]
  },
  {
   "cell_type": "code",
   "execution_count": 29,
   "metadata": {},
   "outputs": [
    {
     "name": "stdout",
     "output_type": "stream",
     "text": [
      "b'machine learning'\n",
      "b'cc150'\n",
      "b'machine learning'\n",
      "b'cc150'\n",
      "b'machine learning'\n",
      "b'cc150'\n"
     ]
    }
   ],
   "source": [
    "# 读取zip\n",
    "expected_features = {\"favorite_books\": tf.io.VarLenFeature(dtype = tf.string),\n",
    "                     \"hours\": tf.io.VarLenFeature(dtype=tf.float32),\n",
    "                     \"age\": tf.io.FixedLenFeature([],dtype = tf.int64),\n",
    "                    }\n",
    "dataset = tf.data.TFRecordDataset([filename_fullpath_zip],compression_type='GZIP')\n",
    "for serialized_example_tensor in dataset:\n",
    "    example = tf.io.parse_single_example(serialized_example_tensor, expected_features) #解析\n",
    "    books = tf.sparse.to_dense(example[\"favorite_books\"],default_value=b\"\") # sparseTensor to dense\n",
    "    for book in books:\n",
    "        print(book.numpy())"
   ]
  },
  {
   "cell_type": "code",
   "execution_count": null,
   "metadata": {},
   "outputs": [],
   "source": []
  }
 ],
 "metadata": {
  "kernelspec": {
   "display_name": "tensorflow2.0",
   "language": "python",
   "name": "tensorflow2.0"
  },
  "language_info": {
   "codemirror_mode": {
    "name": "ipython",
    "version": 3
   },
   "file_extension": ".py",
   "mimetype": "text/x-python",
   "name": "python",
   "nbconvert_exporter": "python",
   "pygments_lexer": "ipython3",
   "version": "3.7.7"
  }
 },
 "nbformat": 4,
 "nbformat_minor": 4
}
